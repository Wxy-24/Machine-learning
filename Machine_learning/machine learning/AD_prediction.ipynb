{
  "nbformat": 4,
  "nbformat_minor": 0,
  "metadata": {
    "colab": {
      "name": "AD_prediction.ipynb",
      "provenance": [],
      "collapsed_sections": []
    },
    "kernelspec": {
      "display_name": "Python 3",
      "language": "python",
      "name": "python3"
    },
    "language_info": {
      "codemirror_mode": {
        "name": "ipython",
        "version": 3
      },
      "file_extension": ".py",
      "mimetype": "text/x-python",
      "name": "python",
      "nbconvert_exporter": "python",
      "pygments_lexer": "ipython3",
      "version": "3.7.4"
    }
  },
  "cells": [
    {
      "cell_type": "markdown",
      "metadata": {
        "colab_type": "text",
        "id": "0HeqSTzeDr7J"
      },
      "source": [
        "\n",
        "\n",
        "---\n",
        "\n",
        "\n",
        "\n",
        "This task will predict if a patient has Alzheimer's disease based on PET signals. The brain of each patient has been segmented using an atlas composed of 69 ROIs. Within each ROI, all PET signals have been averaged, thus obtaining one scalar value per ROI as feature. Data comes from the ADNI database (http://adni.loni.usc.edu/) and it has been pre-processed by the Clinica team using the procedure explained here: http://www.clinica.run/doc/Pipelines/PET_Volume/.\n",
        "\n",
        "You will find the data in './Data_ADNI.npz' where $X$ is a matrix containing the averages PET signals (each row is a subject and each column a ROI) and $y$ is a vector containing the diagnosis ($0$ for controls and $1$ for Alzheimer's patients).\n",
        "\n",
        "You will also find the atlas used to define the ROIs in './atlas.nii'.\n",
        "\n",
        "\n",
        "---\n",
        "\n",
        "\n"
      ]
    },
    {
      "cell_type": "code",
      "metadata": {
        "colab_type": "code",
        "id": "TPwLc8FAYwx1",
        "outputId": "e304c0a2-8e91-4c5d-dfb5-fb3248057dd8",
        "colab": {
          "base_uri": "https://localhost:8080/",
          "height": 52
        }
      },
      "source": [
        "from google_drive_downloader import GoogleDriveDownloader as gdd\n",
        "gdd.download_file_from_google_drive(file_id='1ver_4zqkVZfr2pFVT3BIRcx6fEymrrPV',\n",
        "dest_path='./Data_ADNI.npz')\n",
        "gdd.download_file_from_google_drive(file_id='1Q1Y-lMhGEFDO9sijZGslOPqZeGuz7mS0',\n",
        "dest_path='./atlas.nii')"
      ],
      "execution_count": 0,
      "outputs": [
        {
          "output_type": "stream",
          "text": [
            "Downloading 1ver_4zqkVZfr2pFVT3BIRcx6fEymrrPV into ./Data_ADNI.npz... Done.\n",
            "Downloading 1Q1Y-lMhGEFDO9sijZGslOPqZeGuz7mS0 into ./atlas.nii... Done.\n"
          ],
          "name": "stdout"
        }
      ]
    },
    {
      "cell_type": "markdown",
      "metadata": {
        "colab_type": "text",
        "id": "05HYwHXqGC2D"
      },
      "source": [
        "install nilearn which will be useful to plot the atlas"
      ]
    },
    {
      "cell_type": "code",
      "metadata": {
        "colab_type": "code",
        "id": "YEKKNPg2EgWr",
        "outputId": "0d005bf1-772f-4aa6-ab0a-03fca2d4311c",
        "colab": {
          "base_uri": "https://localhost:8080/",
          "height": 35
        }
      },
      "source": [
        "!pip install -q nilearn"
      ],
      "execution_count": 0,
      "outputs": [
        {
          "output_type": "stream",
          "text": [
            "\u001b[K     |████████████████████████████████| 2.5MB 5.1MB/s \n",
            "\u001b[?25h"
          ],
          "name": "stdout"
        }
      ]
    },
    {
      "cell_type": "code",
      "metadata": {
        "colab_type": "code",
        "id": "OznGm4oUFq8_",
        "colab": {}
      },
      "source": [
        "import numpy as np\n",
        "from time import time\n",
        "import nibabel as nib\n",
        "\n",
        "import itertools\n",
        "from sklearn.model_selection import train_test_split\n",
        "from sklearn.model_selection import  cross_val_score, cross_validate, GridSearchCV, KFold, StratifiedKFold\n",
        "from sklearn.metrics import classification_report\n",
        "from sklearn.metrics import confusion_matrix\n",
        "from sklearn.discriminant_analysis import LinearDiscriminantAnalysis\n",
        "from sklearn.discriminant_analysis import QuadraticDiscriminantAnalysis\n",
        "from sklearn.naive_bayes import GaussianNB\n",
        "from sklearn.linear_model import LogisticRegression\n",
        "from sklearn.neighbors import KNeighborsClassifier\n",
        "from sklearn import decomposition\n",
        "from sklearn.preprocessing import StandardScaler\n",
        "import matplotlib.pyplot as plt\n",
        "from nilearn import plotting\n",
        "%matplotlib inline\n",
        "np.random.seed(seed=666)\n",
        "\n",
        "import warnings\n",
        "warnings.filterwarnings(\"ignore\", category=DeprecationWarning)\n",
        "warnings.simplefilter(action='ignore', category=FutureWarning)\n",
        "from sklearn.exceptions import ConvergenceWarning\n",
        "warnings.filterwarnings(action='ignore', category=ConvergenceWarning)"
      ],
      "execution_count": 0,
      "outputs": []
    },
    {
      "cell_type": "markdown",
      "metadata": {
        "colab_type": "text",
        "id": "E2EbMldMBS_R"
      },
      "source": [
        "load the function for plotting the confusion matrix"
      ]
    },
    {
      "cell_type": "code",
      "metadata": {
        "colab_type": "code",
        "id": "sL3Luy93O__v",
        "colab": {}
      },
      "source": [
        "# Code from scikit-learn\n",
        "\n",
        "def plot_confusion_matrix(cm, classes,\n",
        "                          normalize=False,\n",
        "                          title='Confusion matrix',\n",
        "                          cmap=plt.cm.Blues):\n",
        "    \"\"\"\n",
        "    This function prints and plots the confusion matrix.\n",
        "    Normalization can be applied by setting `normalize=True`.\n",
        "    \"\"\"\n",
        "    if normalize:\n",
        "        cm = cm.astype('float') / cm.sum(axis=1)[:, np.newaxis]\n",
        "        print(\"Normalized confusion matrix\")\n",
        "    else:\n",
        "        print('Confusion matrix, without normalization')\n",
        "\n",
        "    print(cm)\n",
        "\n",
        "    fig, ax = plt.subplots()\n",
        "    im = ax.imshow(cm, interpolation='nearest', cmap=cmap)\n",
        "    ax.figure.colorbar(im, ax=ax)\n",
        "    \n",
        "    ax.set(xticks=np.arange(cm.shape[1]),\n",
        "           yticks=np.arange(cm.shape[0]), \n",
        "           xticklabels=classes, yticklabels=classes,\n",
        "           title=title,\n",
        "           ylabel='True label',\n",
        "           xlabel='Predicted label')\n",
        "    \n",
        "    # Rotate the tick labels and set their alignment.\n",
        "    plt.setp(ax.get_xticklabels(), rotation=45, ha=\"right\",\n",
        "            rotation_mode=\"anchor\")\n",
        "  \n",
        "\n",
        "    # Loop over data dimensions and create text annotations.\n",
        "    fmt = '.2f' if normalize else 'd'\n",
        "    thresh = cm.max() / 2.\n",
        "    for i in range(cm.shape[0]):\n",
        "        for j in range(cm.shape[1]):\n",
        "            ax.text(j, i, format(cm[i, j], fmt),\n",
        "                    ha=\"center\", va=\"center\",\n",
        "                    color=\"white\" if cm[i, j] > thresh else \"black\")\n",
        "    fig.tight_layout()\n",
        "    return ax"
      ],
      "execution_count": 0,
      "outputs": []
    },
    {
      "cell_type": "markdown",
      "metadata": {
        "colab_type": "text",
        "id": "nXQkDR72CYrs"
      },
      "source": [
        "plot the atlas"
      ]
    },
    {
      "cell_type": "code",
      "metadata": {
        "colab_type": "code",
        "id": "UMB7sDM6FCDS",
        "outputId": "9411231c-4436-4584-b31f-2db24335ad40",
        "colab": {
          "base_uri": "https://localhost:8080/",
          "height": 218
        }
      },
      "source": [
        "plotting.plot_roi('./atlas.nii', title=\"Atlas\")\n",
        "plotting.show()"
      ],
      "execution_count": 0,
      "outputs": [
        {
          "output_type": "display_data",
          "data": {
            "image/png": "[encoded data removed]",
            "text/plain": [
              "<Figure size 475.2x187.2 with 4 Axes>"
            ]
          },
          "metadata": {
            "tags": []
          }
        }
      ]
    },
    {
      "cell_type": "markdown",
      "metadata": {
        "colab_type": "text",
        "id": "26HYrbDgGe38"
      },
      "source": [
        "load the data"
      ]
    },
    {
      "cell_type": "code",
      "metadata": {
        "colab_type": "code",
        "id": "JMmJvwgrGgUI",
        "outputId": "70e57850-c003-4a5f-d449-a3d04b80d0ae",
        "colab": {
          "base_uri": "https://localhost:8080/",
          "height": 177
        }
      },
      "source": [
        "dim=2 # dimension    \n",
        "with np.load('./Data_ADNI.npz',allow_pickle=True) as data:\n",
        "    X = data['X'] # features (average PET signals over ROIs)   \n",
        "    y = data['y'] # classes    \n",
        "    labelsChar = data['labels']    \n",
        "    \n",
        "N,M = X.shape # number of subjects and number of ROIs\n",
        "class_names = [\"control\",\"alzheimer\"] # y=0, y=1\n",
        "print('Number of subjects', N,'; Number of features', M)\n",
        "print('Number of controls and Alzheimer patients is respectively: {0} and {1}'.format(N-np.sum(y), np.sum(y)))\n"
      ],
      "execution_count": 0,
      "outputs": [
        {
          "output_type": "stream",
          "text": [
            "Number of subjects 60 ; Number of features 69\n",
            "Number of controls and Alzheimer patients is respectively: 30 and 30\n",
            "[['B' 'a' 'c' ... ' ' ' ' ' ']\n",
            " ['L' 'e' 'f' ... ' ' ' ' ' ']\n",
            " ['R' 'i' 'g' ... ' ' ' ' ' ']\n",
            " ...\n",
            " ['R' 'i' 'g' ... ' ' ' ' ' ']\n",
            " ['L' 'e' 'f' ... ' ' ' ' ' ']\n",
            " ['R' 'i' 'g' ... ' ' ' ' ' ']]\n"
          ],
          "name": "stdout"
        }
      ]
    },
    {
      "cell_type": "markdown",
      "metadata": {
        "colab_type": "text",
        "id": "6VQQet8YMH79"
      },
      "source": [
        "Labels are coded as series of characters, it is more convenient to transform them in strings. As you can see the ROIs are anatomical areas of the brain"
      ]
    },
    {
      "cell_type": "code",
      "metadata": {
        "colab_type": "code",
        "id": "dOTBghpTLF9l",
        "outputId": "18bf9f04-7463-4c8f-ff19-7071c4ad8540",
        "colab": {
          "base_uri": "https://localhost:8080/",
          "height": 1000
        }
      },
      "source": [
        "labelsString = np.empty(M, dtype='object')\n",
        "for i in range(M):\n",
        "  roiName=''.join(labelsChar[i,:])\n",
        "  labelsString[i]=roiName\n",
        "\n",
        "print(labelsString)"
      ],
      "execution_count": 0,
      "outputs": [
        {
          "output_type": "stream",
          "text": [
            "['Background                            '\n",
            " 'Left Hippocampus                      '\n",
            " 'Right Hippocampus                     '\n",
            " 'Left Amygdala                         '\n",
            " 'Right Amygdala                        '\n",
            " 'Left Anterior Medial Temporal Lobe    '\n",
            " 'Right Anterior Medial Temporal Lobe   '\n",
            " 'Left Anterior Lateral Temporal Lobe   '\n",
            " 'Right Anterior Lateral Temporal Lobe  '\n",
            " 'Left Ambient and Parahippocampus Gyri '\n",
            " 'Right Ambient and Parahippocampus Gyri'\n",
            " 'Left Superior Temporal Gyrus          '\n",
            " 'Right Superior Temporal Gyrus         '\n",
            " 'Left Inferior Middle Temporal Gyri    '\n",
            " 'Right Inferior Middle Temporal Gyri   '\n",
            " 'Left Fusiform Gyrus                   '\n",
            " 'Right Fusiform Gyrus                  '\n",
            " 'Left Cerebellum                       '\n",
            " 'Right Cerebellum                      '\n",
            " 'Left Brainstem                        '\n",
            " 'Right Brainstem                       '\n",
            " 'Left Insula                           '\n",
            " 'Right Insula                          '\n",
            " 'Left Lateral Occipital Lobe           '\n",
            " 'Right Lateral Occipital Lobe          '\n",
            " 'Left Anterior Cinguli Gyrus           '\n",
            " 'Right Anterior Cinguli Gyrus          '\n",
            " 'Left Posterior Cinguli Gyrus          '\n",
            " 'Right Posterior Cinguli Gyrus         '\n",
            " 'Left Middle Frontal Gyrus             '\n",
            " 'Right Middle Frontal Gyrus            '\n",
            " 'Left Posterior Temporal Lobe          '\n",
            " 'Right Posterior Temporal Lobe         '\n",
            " 'Left Inferior Lateral Pariatal Lobe   '\n",
            " 'Right Inferior Lateral Pariatal Lobe  '\n",
            " 'Left Caudate Nucleus                  '\n",
            " 'Right Caudate Nucleus                 '\n",
            " 'Left Accumbens Nucleus                '\n",
            " 'Right Accumbens Nucleus               '\n",
            " 'Left Putamen                          '\n",
            " 'Right Putamen                         '\n",
            " 'Left Thalamus                         '\n",
            " 'Right Thalamus                        '\n",
            " 'Left Pallidum                         '\n",
            " 'Right Pallidum                        '\n",
            " 'Left Corpus Callosum                  '\n",
            " 'Right Corpus Callosum                 '\n",
            " 'Left Lateral Temporal Ventricle       '\n",
            " 'Right Lateral Temporal Ventricle      '\n",
            " 'Left Third Ventricle                  '\n",
            " 'Right Third Ventricle                 '\n",
            " 'Left Precentral Gyrus                 '\n",
            " 'Right Precentral Gyrus                '\n",
            " 'Left Gyrus Rectus                     '\n",
            " 'Right Gyrus Rectus                    '\n",
            " 'Left Orbito-Frontal Gyri              '\n",
            " 'Right Orbito-Frontal Gyri             '\n",
            " 'Left Inferior Frontal Gyrus           '\n",
            " 'Right Inferior Frontal Gyrus          '\n",
            " 'Left Superior Frontal Gyrus           '\n",
            " 'Right Superior Frontal Gyrus          '\n",
            " 'Left Postcentral Gyrus                '\n",
            " 'Right Postcentral Gyrus               '\n",
            " 'Left Superior Parietal Gyrus          '\n",
            " 'Right Superior Parietal Gyrus         '\n",
            " 'Left Lingual Gyrus                    '\n",
            " 'Right Lingual Gyrus                   '\n",
            " 'Left Cuneus                           '\n",
            " 'Right Cuneus                          ']\n"
          ],
          "name": "stdout"
        }
      ]
    },
    {
      "cell_type": "markdown",
      "metadata": {
        "colab_type": "text",
        "id": "WjD0Mn8EMrz4"
      },
      "source": [
        "use method mentioned in previous toy classification project\n",
        "\n",
        "\n",
        "\n",
        "\n",
        "\n"
      ]
    },
    {
      "cell_type": "code",
      "metadata": {
        "colab_type": "code",
        "id": "e4SIqp4qaJ-b",
        "colab": {}
      },
      "source": [
        "# Shuffle data randomly\n",
        "indeces=np.arange(N) # Integers from 0 to N-1\n",
        "#print(indeces)\n",
        "\n",
        "np.random.shuffle(indeces)\n",
        "#print(indeces)\n",
        "\n",
        "Xp=X[indeces]\n",
        "Yp=y[indeces]\n",
        "Xmean = np.mean(Xp,axis=0) # Compute average\n",
        "\n",
        "labelsCharsp=[''] * N\n",
        "for i in range(0,N):\n",
        "    labelsCharsp[i]=labelsChar[indeces[i]]   \n",
        "\n"
      ],
      "execution_count": 0,
      "outputs": []
    },
    {
      "cell_type": "code",
      "metadata": {
        "colab_type": "code",
        "id": "2qUDT8YAhaCl",
        "colab": {}
      },
      "source": [
        "# Create training and test set\n",
        "X_train, X_test, y_train, y_test = train_test_split(Xp, Yp, test_size=0.1, random_state=42)"
      ],
      "execution_count": 0,
      "outputs": []
    },
    {
      "cell_type": "code",
      "metadata": {
        "colab_type": "code",
        "id": "7T32EgG0ifeo",
        "outputId": "e83c5e80-5312-4379-c6cb-736daff9c4c6",
        "colab": {
          "base_uri": "https://localhost:8080/",
          "height": 629
        }
      },
      "source": [
        "# Fitting LDA\n",
        "t0 = time()\n",
        "lda = LinearDiscriminantAnalysis()\n",
        "lda.fit(X_train, y_train)\n",
        "y_pred = lda.predict(X_test)\n",
        "print(\"done in %0.2fs\" % (time() - t0))\n",
        "print(classification_report(y_test, y_pred))\n",
        "\n",
        "# Compute confusion matrix\n",
        "cnf_matrix = confusion_matrix(y_test, y_pred)\n",
        "\n",
        "# Plot normalized confusion matrix\n",
        "plt.figure()\n",
        "plot_confusion_matrix(cnf_matrix, classes=class_names, normalize=True)\n",
        "plt.show()"
      ],
      "execution_count": 0,
      "outputs": [
        {
          "output_type": "stream",
          "text": [
            "Fitting LDA to training set\n",
            "done in 0.016s\n",
            "              precision    recall  f1-score   support\n",
            "\n",
            "           0       0.75      1.00      0.86         3\n",
            "           1       1.00      0.67      0.80         3\n",
            "\n",
            "    accuracy                           0.83         6\n",
            "   macro avg       0.88      0.83      0.83         6\n",
            "weighted avg       0.88      0.83      0.83         6\n",
            "\n",
            "Normalized confusion matrix\n",
            "[[1.         0.        ]\n",
            " [0.33333333 0.66666667]]\n"
          ],
          "name": "stdout"
        },
        {
          "output_type": "stream",
          "text": [
            "/usr/local/lib/python3.6/dist-packages/sklearn/utils/validation.py:724: DataConversionWarning: A column-vector y was passed when a 1d array was expected. Please change the shape of y to (n_samples, ), for example using ravel().\n",
            "  y = column_or_1d(y, warn=True)\n",
            "/usr/local/lib/python3.6/dist-packages/sklearn/discriminant_analysis.py:388: UserWarning: Variables are collinear.\n",
            "  warnings.warn(\"Variables are collinear.\")\n"
          ],
          "name": "stderr"
        },
        {
          "output_type": "display_data",
          "data": {
            "text/plain": [
              "<Figure size 432x288 with 0 Axes>"
            ]
          },
          "metadata": {
            "tags": []
          }
        },
        {
          "output_type": "display_data",
          "data": {
            "image/png": "[encoded data removed]",
            "text/plain": [
              "<Figure size 432x288 with 2 Axes>"
            ]
          },
          "metadata": {
            "tags": []
          }
        }
      ]
    },
    {
      "cell_type": "code",
      "metadata": {
        "colab_type": "code",
        "id": "lFWmckyqi0sV",
        "outputId": "6a47beea-8099-4ced-f0a9-d22d75674285",
        "colab": {
          "base_uri": "https://localhost:8080/",
          "height": 1000
        }
      },
      "source": [
        "# Cross-validation for Model Assessment\n",
        "\n",
        "# Fitting LDA\n",
        "print(\"Fitting LDA\")\n",
        "t0 = time()\n",
        "lda = LinearDiscriminantAnalysis()\n",
        "lda_score = cross_val_score(lda,Xp, Yp,cv=5)\n",
        "print(\"done in %0.3fs\" % (time() - t0))\n",
        "print(\" Average and std CV score : {0} +- {1}\".format(lda_score.mean(), lda_score.std() ))\n",
        "\n",
        "# Fitting QDA\n",
        "print(\"Fitting QDA\")\n",
        "t0 = time()\n",
        "qda = QuadraticDiscriminantAnalysis()\n",
        "qda_score = cross_val_score(qda,Xp, Yp,cv=5)\n",
        "print(\"done in %0.3fs\" % (time() - t0))\n",
        "print(\" Average and std CV score : {0} +- {1}\".format(qda_score.mean(), qda_score.std() ))\n",
        "\n",
        "# Fitting Logistic-regression\n",
        "print(\"Fitting Logistic Regression\")\n",
        "t0 = time()\n",
        "logit = LogisticRegression(solver='lbfgs')\n",
        "logit_score = cross_val_score(logit,Xp, Yp,cv=5)\n",
        "print(\"done in %0.3fs\" % (time() - t0))\n",
        "print(\" Average and std CV score : {0} +- {1}\".format(logit_score.mean(), logit_score.std() ))\n",
        "\n",
        "# Fitting Naive-Bayes\n",
        "print(\"Fitting Naive-Bayes\")\n",
        "t0 = time()\n",
        "GNB = GaussianNB()\n",
        "GNB_score = cross_val_score(GNB,Xp, Yp,cv=5)\n",
        "print(\"done in %0.3fs\" % (time() - t0))\n",
        "print(\" Average and std CV score : {0} +- {1}\".format(GNB_score.mean(), GNB_score.std() ))\n",
        "\n",
        "# Fitting K-nearest neighbour\n",
        "print(\"Fitting K-nearest neighbour\")\n",
        "t0 = time()\n",
        "neigh = KNeighborsClassifier(n_neighbors=3)\n",
        "neigh_score = cross_val_score(neigh,Xp, Yp,cv=5)\n",
        "print(\"done in %0.3fs\" % (time() - t0))\n",
        "print(\" Average and std CV score : {0} +- {1}\".format(neigh_score.mean(), neigh_score.std() ))"
      ],
      "execution_count": 0,
      "outputs": [
        {
          "output_type": "stream",
          "text": [
            "Fitting LDA\n",
            "done in 0.025s\n",
            " Average and std CV score : 0.7333333333333333 +- 0.1224744871391589\n",
            "Fitting QDA\n",
            "done in 0.021s\n",
            " Average and std CV score : 0.5666666666666667 +- 0.11055415967851333\n",
            "Fitting Logistic Regression\n",
            "done in 0.068s\n",
            " Average and std CV score : 0.85 +- 0.06236095644623234\n",
            "Fitting Naive-Bayes\n",
            "done in 0.010s\n",
            " Average and std CV score : 0.85 +- 0.06236095644623234\n",
            "Fitting K-nearest neighbour\n",
            "done in 0.016s\n",
            " Average and std CV score : 0.8 +- 0.11303883305208778\n"
          ],
          "name": "stdout"
        },
        {
          "output_type": "stream",
          "text": [
            "/usr/local/lib/python3.6/dist-packages/sklearn/utils/validation.py:724: DataConversionWarning: A column-vector y was passed when a 1d array was expected. Please change the shape of y to (n_samples, ), for example using ravel().\n",
            "  y = column_or_1d(y, warn=True)\n",
            "/usr/local/lib/python3.6/dist-packages/sklearn/discriminant_analysis.py:388: UserWarning: Variables are collinear.\n",
            "  warnings.warn(\"Variables are collinear.\")\n",
            "/usr/local/lib/python3.6/dist-packages/sklearn/utils/validation.py:724: DataConversionWarning: A column-vector y was passed when a 1d array was expected. Please change the shape of y to (n_samples, ), for example using ravel().\n",
            "  y = column_or_1d(y, warn=True)\n",
            "/usr/local/lib/python3.6/dist-packages/sklearn/discriminant_analysis.py:388: UserWarning: Variables are collinear.\n",
            "  warnings.warn(\"Variables are collinear.\")\n",
            "/usr/local/lib/python3.6/dist-packages/sklearn/utils/validation.py:724: DataConversionWarning: A column-vector y was passed when a 1d array was expected. Please change the shape of y to (n_samples, ), for example using ravel().\n",
            "  y = column_or_1d(y, warn=True)\n",
            "/usr/local/lib/python3.6/dist-packages/sklearn/discriminant_analysis.py:388: UserWarning: Variables are collinear.\n",
            "  warnings.warn(\"Variables are collinear.\")\n",
            "/usr/local/lib/python3.6/dist-packages/sklearn/utils/validation.py:724: DataConversionWarning: A column-vector y was passed when a 1d array was expected. Please change the shape of y to (n_samples, ), for example using ravel().\n",
            "  y = column_or_1d(y, warn=True)\n",
            "/usr/local/lib/python3.6/dist-packages/sklearn/discriminant_analysis.py:388: UserWarning: Variables are collinear.\n",
            "  warnings.warn(\"Variables are collinear.\")\n",
            "/usr/local/lib/python3.6/dist-packages/sklearn/utils/validation.py:724: DataConversionWarning: A column-vector y was passed when a 1d array was expected. Please change the shape of y to (n_samples, ), for example using ravel().\n",
            "  y = column_or_1d(y, warn=True)\n",
            "/usr/local/lib/python3.6/dist-packages/sklearn/discriminant_analysis.py:388: UserWarning: Variables are collinear.\n",
            "  warnings.warn(\"Variables are collinear.\")\n",
            "/usr/local/lib/python3.6/dist-packages/sklearn/utils/validation.py:724: DataConversionWarning: A column-vector y was passed when a 1d array was expected. Please change the shape of y to (n_samples, ), for example using ravel().\n",
            "  y = column_or_1d(y, warn=True)\n",
            "/usr/local/lib/python3.6/dist-packages/sklearn/discriminant_analysis.py:693: UserWarning: Variables are collinear\n",
            "  warnings.warn(\"Variables are collinear\")\n",
            "/usr/local/lib/python3.6/dist-packages/sklearn/utils/validation.py:724: DataConversionWarning: A column-vector y was passed when a 1d array was expected. Please change the shape of y to (n_samples, ), for example using ravel().\n",
            "  y = column_or_1d(y, warn=True)\n",
            "/usr/local/lib/python3.6/dist-packages/sklearn/discriminant_analysis.py:693: UserWarning: Variables are collinear\n",
            "  warnings.warn(\"Variables are collinear\")\n",
            "/usr/local/lib/python3.6/dist-packages/sklearn/utils/validation.py:724: DataConversionWarning: A column-vector y was passed when a 1d array was expected. Please change the shape of y to (n_samples, ), for example using ravel().\n",
            "  y = column_or_1d(y, warn=True)\n",
            "/usr/local/lib/python3.6/dist-packages/sklearn/discriminant_analysis.py:693: UserWarning: Variables are collinear\n",
            "  warnings.warn(\"Variables are collinear\")\n",
            "/usr/local/lib/python3.6/dist-packages/sklearn/utils/validation.py:724: DataConversionWarning: A column-vector y was passed when a 1d array was expected. Please change the shape of y to (n_samples, ), for example using ravel().\n",
            "  y = column_or_1d(y, warn=True)\n",
            "/usr/local/lib/python3.6/dist-packages/sklearn/discriminant_analysis.py:693: UserWarning: Variables are collinear\n",
            "  warnings.warn(\"Variables are collinear\")\n",
            "/usr/local/lib/python3.6/dist-packages/sklearn/utils/validation.py:724: DataConversionWarning: A column-vector y was passed when a 1d array was expected. Please change the shape of y to (n_samples, ), for example using ravel().\n",
            "  y = column_or_1d(y, warn=True)\n",
            "/usr/local/lib/python3.6/dist-packages/sklearn/discriminant_analysis.py:693: UserWarning: Variables are collinear\n",
            "  warnings.warn(\"Variables are collinear\")\n",
            "/usr/local/lib/python3.6/dist-packages/sklearn/utils/validation.py:724: DataConversionWarning: A column-vector y was passed when a 1d array was expected. Please change the shape of y to (n_samples, ), for example using ravel().\n",
            "  y = column_or_1d(y, warn=True)\n",
            "/usr/local/lib/python3.6/dist-packages/sklearn/utils/validation.py:724: DataConversionWarning: A column-vector y was passed when a 1d array was expected. Please change the shape of y to (n_samples, ), for example using ravel().\n",
            "  y = column_or_1d(y, warn=True)\n",
            "/usr/local/lib/python3.6/dist-packages/sklearn/utils/validation.py:724: DataConversionWarning: A column-vector y was passed when a 1d array was expected. Please change the shape of y to (n_samples, ), for example using ravel().\n",
            "  y = column_or_1d(y, warn=True)\n",
            "/usr/local/lib/python3.6/dist-packages/sklearn/utils/validation.py:724: DataConversionWarning: A column-vector y was passed when a 1d array was expected. Please change the shape of y to (n_samples, ), for example using ravel().\n",
            "  y = column_or_1d(y, warn=True)\n",
            "/usr/local/lib/python3.6/dist-packages/sklearn/utils/validation.py:724: DataConversionWarning: A column-vector y was passed when a 1d array was expected. Please change the shape of y to (n_samples, ), for example using ravel().\n",
            "  y = column_or_1d(y, warn=True)\n",
            "/usr/local/lib/python3.6/dist-packages/sklearn/utils/validation.py:724: DataConversionWarning: A column-vector y was passed when a 1d array was expected. Please change the shape of y to (n_samples, ), for example using ravel().\n",
            "  y = column_or_1d(y, warn=True)\n",
            "/usr/local/lib/python3.6/dist-packages/sklearn/utils/validation.py:724: DataConversionWarning: A column-vector y was passed when a 1d array was expected. Please change the shape of y to (n_samples, ), for example using ravel().\n",
            "  y = column_or_1d(y, warn=True)\n",
            "/usr/local/lib/python3.6/dist-packages/sklearn/utils/validation.py:724: DataConversionWarning: A column-vector y was passed when a 1d array was expected. Please change the shape of y to (n_samples, ), for example using ravel().\n",
            "  y = column_or_1d(y, warn=True)\n",
            "/usr/local/lib/python3.6/dist-packages/sklearn/utils/validation.py:724: DataConversionWarning: A column-vector y was passed when a 1d array was expected. Please change the shape of y to (n_samples, ), for example using ravel().\n",
            "  y = column_or_1d(y, warn=True)\n",
            "/usr/local/lib/python3.6/dist-packages/sklearn/utils/validation.py:724: DataConversionWarning: A column-vector y was passed when a 1d array was expected. Please change the shape of y to (n_samples, ), for example using ravel().\n",
            "  y = column_or_1d(y, warn=True)\n",
            "/usr/local/lib/python3.6/dist-packages/sklearn/model_selection/_validation.py:516: DataConversionWarning: A column-vector y was passed when a 1d array was expected. Please change the shape of y to (n_samples, ), for example using ravel().\n",
            "  estimator.fit(X_train, y_train, **fit_params)\n",
            "/usr/local/lib/python3.6/dist-packages/sklearn/model_selection/_validation.py:516: DataConversionWarning: A column-vector y was passed when a 1d array was expected. Please change the shape of y to (n_samples, ), for example using ravel().\n",
            "  estimator.fit(X_train, y_train, **fit_params)\n",
            "/usr/local/lib/python3.6/dist-packages/sklearn/model_selection/_validation.py:516: DataConversionWarning: A column-vector y was passed when a 1d array was expected. Please change the shape of y to (n_samples, ), for example using ravel().\n",
            "  estimator.fit(X_train, y_train, **fit_params)\n",
            "/usr/local/lib/python3.6/dist-packages/sklearn/model_selection/_validation.py:516: DataConversionWarning: A column-vector y was passed when a 1d array was expected. Please change the shape of y to (n_samples, ), for example using ravel().\n",
            "  estimator.fit(X_train, y_train, **fit_params)\n",
            "/usr/local/lib/python3.6/dist-packages/sklearn/model_selection/_validation.py:516: DataConversionWarning: A column-vector y was passed when a 1d array was expected. Please change the shape of y to (n_samples, ), for example using ravel().\n",
            "  estimator.fit(X_train, y_train, **fit_params)\n"
          ],
          "name": "stderr"
        }
      ]
    },
    {
      "cell_type": "markdown",
      "metadata": {
        "colab_type": "text",
        "id": "OvYmNXSjjR_r"
      },
      "source": [
        "Conclusion:The best classification algorithm is the logistic regression.\n"
      ]
    }
  ]
}