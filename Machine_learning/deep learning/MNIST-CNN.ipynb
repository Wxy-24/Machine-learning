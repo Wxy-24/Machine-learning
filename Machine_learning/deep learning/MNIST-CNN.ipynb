{
 "cells": [
  {
   "cell_type": "markdown",
   "metadata": {
    "colab_type": "text",
    "id": "hUDmbiy75N3Z"
   },
   "source": [
    "# **MNIST**\n",
    "## **Recognition of hand-written characters from the scikit-learn database using a CNN**\n",
    "\n"
   ]
  },
  {
   "cell_type": "code",
   "execution_count": 2,
   "metadata": {
    "colab": {},
    "colab_type": "code",
    "id": "n_l3rd_B0zcT"
   },
   "outputs": [],
   "source": [
    "# Load the digits dataset from scikit-learn\n",
    "# Import datasets and performance metrics\n",
    "from sklearn import datasets\n",
    "digits = datasets.load_digits() #MNIST dataset"
   ]
  },
  {
   "cell_type": "markdown",
   "metadata": {
    "colab_type": "text",
    "id": "VWYdMblA07og"
   },
   "source": [
    "The data we are interested in are \n",
    "8x8 images of digits. A CNN can process images directly without having them to be vectorized. Work directly with the **digits.images** from sklearn.datasets .\n"
   ]
  },
  {
   "cell_type": "code",
   "execution_count": 3,
   "metadata": {
    "colab": {
     "base_uri": "https://localhost:8080/",
     "height": 329
    },
    "colab_type": "code",
    "id": "zwcT8OiY0zcY",
    "outputId": "7dfdb4fd-5c4f-457d-eeb0-132748e80cfb"
   },
   "outputs": [
    {
     "data": {
      "image/png": "[encoded data removed]",
      "text/plain": [
       "<Figure size 576x576 with 10 Axes>"
      ]
     },
     "metadata": {},
     "output_type": "display_data"
    }
   ],
   "source": [
    "# Image visualization with matplotlib\n",
    "import matplotlib.pyplot as plt\n",
    "fig, axes = plt.subplots(2,5, figsize=(8, 8),subplot_kw={'xticks':[], 'yticks':[]},\n",
    "                        gridspec_kw=dict(hspace=0.05, wspace=0.5))\n",
    "for i, ax in enumerate(axes.flat):\n",
    "  ax.imshow(digits.images[i], cmap='binary', interpolation='nearest')\n",
    "  ax.text(0.05,1,str('Training:%d'%digits.target[i]),transform=ax.transAxes, color='black')"
   ]
  },
  {
   "cell_type": "code",
   "execution_count": 0,
   "metadata": {
    "colab": {
     "base_uri": "https://localhost:8080/",
     "height": 35
    },
    "colab_type": "code",
    "id": "sW290nC_0zch",
    "outputId": "3b613062-f1d6-4fe4-8978-de20b4f025e6"
   },
   "outputs": [
    {
     "data": {
      "text/plain": [
       "(1797, 8, 8)"
      ]
     },
     "execution_count": 10,
     "metadata": {
      "tags": []
     },
     "output_type": "execute_result"
    }
   ],
   "source": [
    "digits.images.shape"
   ]
  },
  {
   "cell_type": "markdown",
   "metadata": {
    "colab_type": "text",
    "id": "nP63S0EIGiuW"
   },
   "source": [
    "Convert the target into the matrix 'y' in one-hot format. "
   ]
  },
  {
   "cell_type": "code",
   "execution_count": 0,
   "metadata": {
    "colab": {},
    "colab_type": "code",
    "id": "zvptQO9z0zcm"
   },
   "outputs": [],
   "source": [
    "import keras\n",
    "label=keras.utils.to_categorical(digits.target,num_classes=10)"
   ]
  },
  {
   "cell_type": "markdown",
   "metadata": {
    "colab_type": "text",
    "id": "nzSfBn0qGwzi"
   },
   "source": [
    "Adjust the shape of dataset\n",
    "\n",
    "Print the shape of your array X. You should have a 4-D array with the last dimension equal to 1."
   ]
  },
  {
   "cell_type": "code",
   "execution_count": 0,
   "metadata": {
    "colab": {
     "base_uri": "https://localhost:8080/",
     "height": 52
    },
    "colab_type": "code",
    "id": "du39fVyo0zcr",
    "outputId": "05afbd6f-5fac-42e0-fe16-7926377991b1"
   },
   "outputs": [
    {
     "name": "stdout",
     "output_type": "stream",
     "text": [
      "(1797, 8, 8)\n",
      "(1797, 8, 8, 1)\n"
     ]
    }
   ],
   "source": [
    "import numpy as np\n",
    "print(digits.images.shape)\n",
    "img=digits.images[:,:,:,np.newaxis]  #create the final dimension\n",
    "print(img.shape)    "
   ]
  },
  {
   "cell_type": "markdown",
   "metadata": {
    "colab_type": "text",
    "id": "3QWG61q33iVh"
   },
   "source": [
    "## Prepare the train and test dataset.\n"
   ]
  },
  {
   "cell_type": "code",
   "execution_count": 0,
   "metadata": {
    "colab": {},
    "colab_type": "code",
    "id": "ECRVoCxl0zcv"
   },
   "outputs": [],
   "source": [
    "from sklearn.model_selection import train_test_split\n",
    "\n",
    "x_train, x_test, y_train, y_test =train_test_split(img,label, test_size=0.25, random_state=42)"
   ]
  },
  {
   "cell_type": "markdown",
   "metadata": {
    "colab_type": "text",
    "id": "TTgyr6h44F5a"
   },
   "source": [
    "## create a sequential model\n",
    "\n"
   ]
  },
  {
   "cell_type": "code",
   "execution_count": 0,
   "metadata": {
    "colab": {},
    "colab_type": "code",
    "id": "SoGTZ35q0zcz"
   },
   "outputs": [],
   "source": [
    "from keras.models import Sequential\n",
    "from keras.layers import Dense, Dropout, Flatten\n",
    "from keras.layers import Conv2D, MaxPooling2D\n",
    "from keras import backend as K\n",
    "input_shape = (8, 8, 1)\n",
    "num_classes=10\n",
    "model = Sequential()\n",
    "model.add(Conv2D(5, kernel_size=(3, 3),activation='relu',input_shape=input_shape))\n",
    "model.add(MaxPooling2D(pool_size=(2, 2)))\n",
    "#model.add(Dropout(0.25))\n",
    "model.add(Flatten())\n",
    "model.add(Dense(10, activation='relu'))\n",
    "#model.add(Dropout(0.5))\n",
    "model.add(Dense(num_classes, activation='softmax'))\n",
    "\n",
    "\n",
    "# compile the model. Use the categorical crossentropy, the adam optimizer and accuracy\n",
    "# as the evaluation metric...\n",
    "model.compile(loss='categorical_crossentropy',optimizer='adam',metrics=['accuracy'])\n"
   ]
  },
  {
   "cell_type": "markdown",
   "metadata": {
    "colab_type": "text",
    "id": "92xBrTgg440r"
   },
   "source": [
    "## train the model\n",
    "\n"
   ]
  },
  {
   "cell_type": "code",
   "execution_count": 0,
   "metadata": {
    "colab": {
     "base_uri": "https://localhost:8080/",
     "height": 1000
    },
    "colab_type": "code",
    "id": "jEYEV0Qr0zc4",
    "outputId": "c49784c7-17c1-48d0-a244-b4b989179d7a"
   },
   "outputs": [
    {
     "name": "stderr",
     "output_type": "stream",
     "text": [
      "/usr/local/lib/python3.6/dist-packages/ipykernel_launcher.py:2: UserWarning: The `nb_epoch` argument in `fit` has been renamed `epochs`.\n",
      "  \n"
     ]
    },
    {
     "name": "stdout",
     "output_type": "stream",
     "text": [
      "Train on 1010 samples, validate on 337 samples\n",
      "Epoch 1/300\n",
      "1010/1010 [==============================] - 0s 450us/step - loss: 3.7722 - acc: 0.1436 - val_loss: 2.3694 - val_acc: 0.1187\n",
      "Epoch 2/300\n",
      "1010/1010 [==============================] - 0s 186us/step - loss: 2.2114 - acc: 0.1505 - val_loss: 2.2449 - val_acc: 0.1573\n",
      "Epoch 3/300\n",
      "1010/1010 [==============================] - 0s 185us/step - loss: 2.0788 - acc: 0.1911 - val_loss: 2.0850 - val_acc: 0.1988\n",
      "Epoch 4/300\n",
      "1010/1010 [==============================] - 0s 180us/step - loss: 1.9287 - acc: 0.2554 - val_loss: 1.9595 - val_acc: 0.2997\n",
      "Epoch 5/300\n",
      "1010/1010 [==============================] - 0s 172us/step - loss: 1.7235 - acc: 0.3257 - val_loss: 1.7093 - val_acc: 0.4095\n",
      "Epoch 6/300\n",
      "1010/1010 [==============================] - 0s 194us/step - loss: 1.4695 - acc: 0.4772 - val_loss: 1.5309 - val_acc: 0.4510\n",
      "Epoch 7/300\n",
      "1010/1010 [==============================] - 0s 177us/step - loss: 1.2637 - acc: 0.5782 - val_loss: 1.3320 - val_acc: 0.5786\n",
      "Epoch 8/300\n",
      "1010/1010 [==============================] - 0s 172us/step - loss: 1.0967 - acc: 0.6703 - val_loss: 1.2002 - val_acc: 0.6083\n",
      "Epoch 9/300\n",
      "1010/1010 [==============================] - 0s 173us/step - loss: 0.9742 - acc: 0.7069 - val_loss: 1.0836 - val_acc: 0.6914\n",
      "Epoch 10/300\n",
      "1010/1010 [==============================] - 0s 170us/step - loss: 0.8658 - acc: 0.7446 - val_loss: 1.0174 - val_acc: 0.7329\n",
      "Epoch 11/300\n",
      "1010/1010 [==============================] - 0s 190us/step - loss: 0.8014 - acc: 0.7733 - val_loss: 0.9164 - val_acc: 0.7151\n",
      "Epoch 12/300\n",
      "1010/1010 [==============================] - 0s 176us/step - loss: 0.7443 - acc: 0.7733 - val_loss: 0.8177 - val_acc: 0.7567\n",
      "Epoch 13/300\n",
      "1010/1010 [==============================] - 0s 167us/step - loss: 0.6773 - acc: 0.7980 - val_loss: 0.7557 - val_acc: 0.7893\n",
      "Epoch 14/300\n",
      "1010/1010 [==============================] - 0s 179us/step - loss: 0.6122 - acc: 0.8129 - val_loss: 0.7160 - val_acc: 0.8190\n",
      "Epoch 15/300\n",
      "1010/1010 [==============================] - 0s 173us/step - loss: 0.5610 - acc: 0.8277 - val_loss: 0.6581 - val_acc: 0.7923\n",
      "Epoch 16/300\n",
      "1010/1010 [==============================] - 0s 175us/step - loss: 0.5127 - acc: 0.8416 - val_loss: 0.5979 - val_acc: 0.8220\n",
      "Epoch 17/300\n",
      "1010/1010 [==============================] - 0s 179us/step - loss: 0.4631 - acc: 0.8495 - val_loss: 0.5003 - val_acc: 0.8546\n",
      "Epoch 18/300\n",
      "1010/1010 [==============================] - 0s 207us/step - loss: 0.4050 - acc: 0.8772 - val_loss: 0.4322 - val_acc: 0.8754\n",
      "Epoch 19/300\n",
      "1010/1010 [==============================] - 0s 196us/step - loss: 0.3445 - acc: 0.8950 - val_loss: 0.3755 - val_acc: 0.8754\n",
      "Epoch 20/300\n",
      "1010/1010 [==============================] - 0s 208us/step - loss: 0.3001 - acc: 0.9050 - val_loss: 0.3295 - val_acc: 0.8961\n",
      "Epoch 21/300\n",
      "1010/1010 [==============================] - 0s 202us/step - loss: 0.2693 - acc: 0.9168 - val_loss: 0.3136 - val_acc: 0.9050\n",
      "Epoch 22/300\n",
      "1010/1010 [==============================] - 0s 175us/step - loss: 0.2477 - acc: 0.9178 - val_loss: 0.2923 - val_acc: 0.9050\n",
      "Epoch 23/300\n",
      "1010/1010 [==============================] - 0s 182us/step - loss: 0.2200 - acc: 0.9297 - val_loss: 0.2514 - val_acc: 0.9199\n",
      "Epoch 24/300\n",
      "1010/1010 [==============================] - 0s 170us/step - loss: 0.2109 - acc: 0.9366 - val_loss: 0.2447 - val_acc: 0.9169\n",
      "Epoch 25/300\n",
      "1010/1010 [==============================] - 0s 168us/step - loss: 0.1920 - acc: 0.9396 - val_loss: 0.2527 - val_acc: 0.9258\n",
      "Epoch 26/300\n",
      "1010/1010 [==============================] - 0s 175us/step - loss: 0.1860 - acc: 0.9396 - val_loss: 0.2338 - val_acc: 0.9258\n",
      "Epoch 27/300\n",
      "1010/1010 [==============================] - 0s 177us/step - loss: 0.1628 - acc: 0.9485 - val_loss: 0.2292 - val_acc: 0.9318\n",
      "Epoch 28/300\n",
      "1010/1010 [==============================] - 0s 176us/step - loss: 0.1570 - acc: 0.9535 - val_loss: 0.2397 - val_acc: 0.9228\n",
      "Epoch 29/300\n",
      "1010/1010 [==============================] - 0s 180us/step - loss: 0.1544 - acc: 0.9525 - val_loss: 0.2243 - val_acc: 0.9288\n",
      "Epoch 30/300\n",
      "1010/1010 [==============================] - 0s 182us/step - loss: 0.1465 - acc: 0.9564 - val_loss: 0.2067 - val_acc: 0.9407\n",
      "Epoch 31/300\n",
      "1010/1010 [==============================] - 0s 177us/step - loss: 0.1322 - acc: 0.9624 - val_loss: 0.1975 - val_acc: 0.9347\n",
      "Epoch 32/300\n",
      "1010/1010 [==============================] - 0s 177us/step - loss: 0.1248 - acc: 0.9653 - val_loss: 0.2112 - val_acc: 0.9377\n",
      "Epoch 33/300\n",
      "1010/1010 [==============================] - 0s 174us/step - loss: 0.1268 - acc: 0.9644 - val_loss: 0.1930 - val_acc: 0.9407\n",
      "Epoch 34/300\n",
      "1010/1010 [==============================] - 0s 184us/step - loss: 0.1168 - acc: 0.9723 - val_loss: 0.2008 - val_acc: 0.9347\n",
      "Epoch 35/300\n",
      "1010/1010 [==============================] - 0s 176us/step - loss: 0.1146 - acc: 0.9653 - val_loss: 0.2111 - val_acc: 0.9347\n",
      "Epoch 36/300\n",
      "1010/1010 [==============================] - 0s 170us/step - loss: 0.1087 - acc: 0.9663 - val_loss: 0.2005 - val_acc: 0.9436\n",
      "Epoch 37/300\n",
      "1010/1010 [==============================] - 0s 171us/step - loss: 0.0965 - acc: 0.9752 - val_loss: 0.1921 - val_acc: 0.9377\n",
      "Epoch 38/300\n",
      "1010/1010 [==============================] - 0s 178us/step - loss: 0.0936 - acc: 0.9743 - val_loss: 0.2152 - val_acc: 0.9318\n",
      "Epoch 39/300\n",
      "1010/1010 [==============================] - 0s 183us/step - loss: 0.0955 - acc: 0.9733 - val_loss: 0.1997 - val_acc: 0.9466\n",
      "Epoch 40/300\n",
      "1010/1010 [==============================] - 0s 185us/step - loss: 0.0912 - acc: 0.9752 - val_loss: 0.2080 - val_acc: 0.9407\n",
      "Epoch 41/300\n",
      "1010/1010 [==============================] - 0s 187us/step - loss: 0.0873 - acc: 0.9743 - val_loss: 0.2112 - val_acc: 0.9496\n",
      "Epoch 42/300\n",
      "1010/1010 [==============================] - 0s 176us/step - loss: 0.0798 - acc: 0.9752 - val_loss: 0.2185 - val_acc: 0.9407\n",
      "Epoch 43/300\n",
      "1010/1010 [==============================] - 0s 176us/step - loss: 0.0801 - acc: 0.9762 - val_loss: 0.2292 - val_acc: 0.9407\n",
      "Epoch 44/300\n",
      "1010/1010 [==============================] - 0s 170us/step - loss: 0.0774 - acc: 0.9752 - val_loss: 0.2152 - val_acc: 0.9347\n",
      "Epoch 45/300\n",
      "1010/1010 [==============================] - 0s 170us/step - loss: 0.0694 - acc: 0.9792 - val_loss: 0.2095 - val_acc: 0.9466\n",
      "Epoch 46/300\n",
      "1010/1010 [==============================] - 0s 169us/step - loss: 0.0665 - acc: 0.9861 - val_loss: 0.2244 - val_acc: 0.9436\n",
      "Epoch 47/300\n",
      "1010/1010 [==============================] - 0s 205us/step - loss: 0.0675 - acc: 0.9832 - val_loss: 0.2420 - val_acc: 0.9347\n",
      "Epoch 48/300\n",
      "1010/1010 [==============================] - 0s 195us/step - loss: 0.0667 - acc: 0.9851 - val_loss: 0.2225 - val_acc: 0.9496\n",
      "Epoch 49/300\n",
      "1010/1010 [==============================] - 0s 195us/step - loss: 0.0584 - acc: 0.9861 - val_loss: 0.2418 - val_acc: 0.9347\n",
      "Epoch 50/300\n",
      "1010/1010 [==============================] - 0s 191us/step - loss: 0.0582 - acc: 0.9832 - val_loss: 0.2305 - val_acc: 0.9407\n",
      "Epoch 51/300\n",
      "1010/1010 [==============================] - 0s 171us/step - loss: 0.0555 - acc: 0.9842 - val_loss: 0.2084 - val_acc: 0.9436\n",
      "Epoch 52/300\n",
      "1010/1010 [==============================] - 0s 174us/step - loss: 0.0577 - acc: 0.9861 - val_loss: 0.2257 - val_acc: 0.9525\n",
      "Epoch 53/300\n",
      "1010/1010 [==============================] - 0s 192us/step - loss: 0.0508 - acc: 0.9851 - val_loss: 0.2259 - val_acc: 0.9525\n",
      "Epoch 54/300\n",
      "1010/1010 [==============================] - 0s 202us/step - loss: 0.0485 - acc: 0.9871 - val_loss: 0.2433 - val_acc: 0.9585\n",
      "Epoch 55/300\n",
      "1010/1010 [==============================] - 0s 192us/step - loss: 0.0452 - acc: 0.9881 - val_loss: 0.2481 - val_acc: 0.9407\n",
      "Epoch 56/300\n",
      "1010/1010 [==============================] - 0s 177us/step - loss: 0.0468 - acc: 0.9861 - val_loss: 0.2278 - val_acc: 0.9525\n",
      "Epoch 57/300\n",
      "1010/1010 [==============================] - 0s 178us/step - loss: 0.0459 - acc: 0.9901 - val_loss: 0.2308 - val_acc: 0.9585\n",
      "Epoch 58/300\n",
      "1010/1010 [==============================] - 0s 178us/step - loss: 0.0421 - acc: 0.9901 - val_loss: 0.2265 - val_acc: 0.9614\n",
      "Epoch 59/300\n",
      "1010/1010 [==============================] - 0s 179us/step - loss: 0.0405 - acc: 0.9901 - val_loss: 0.2231 - val_acc: 0.9585\n",
      "Epoch 60/300\n",
      "1010/1010 [==============================] - 0s 196us/step - loss: 0.0337 - acc: 0.9950 - val_loss: 0.2500 - val_acc: 0.9525\n",
      "Epoch 61/300\n",
      "1010/1010 [==============================] - 0s 179us/step - loss: 0.0367 - acc: 0.9911 - val_loss: 0.2252 - val_acc: 0.9555\n",
      "Epoch 62/300\n",
      "1010/1010 [==============================] - 0s 173us/step - loss: 0.0325 - acc: 0.9960 - val_loss: 0.2418 - val_acc: 0.9436\n",
      "Epoch 63/300\n",
      "1010/1010 [==============================] - 0s 173us/step - loss: 0.0314 - acc: 0.9941 - val_loss: 0.2341 - val_acc: 0.9614\n",
      "Epoch 64/300\n",
      "1010/1010 [==============================] - 0s 183us/step - loss: 0.0293 - acc: 0.9950 - val_loss: 0.2350 - val_acc: 0.9674\n",
      "Epoch 65/300\n",
      "1010/1010 [==============================] - 0s 174us/step - loss: 0.0318 - acc: 0.9941 - val_loss: 0.2505 - val_acc: 0.9555\n",
      "Epoch 66/300\n",
      "1010/1010 [==============================] - 0s 182us/step - loss: 0.0307 - acc: 0.9941 - val_loss: 0.2549 - val_acc: 0.9407\n",
      "Epoch 67/300\n",
      "1010/1010 [==============================] - 0s 175us/step - loss: 0.0335 - acc: 0.9911 - val_loss: 0.2254 - val_acc: 0.9555\n",
      "Epoch 68/300\n",
      "1010/1010 [==============================] - 0s 175us/step - loss: 0.0310 - acc: 0.9901 - val_loss: 0.2502 - val_acc: 0.9585\n",
      "Epoch 69/300\n",
      "1010/1010 [==============================] - 0s 176us/step - loss: 0.0260 - acc: 0.9941 - val_loss: 0.2545 - val_acc: 0.9525\n",
      "Epoch 70/300\n",
      "1010/1010 [==============================] - 0s 182us/step - loss: 0.0238 - acc: 0.9960 - val_loss: 0.2427 - val_acc: 0.9525\n",
      "Epoch 71/300\n",
      "1010/1010 [==============================] - 0s 172us/step - loss: 0.0224 - acc: 0.9960 - val_loss: 0.2561 - val_acc: 0.9585\n",
      "Epoch 72/300\n",
      "1010/1010 [==============================] - 0s 178us/step - loss: 0.0200 - acc: 0.9980 - val_loss: 0.2681 - val_acc: 0.9496\n",
      "Epoch 73/300\n",
      "1010/1010 [==============================] - 0s 171us/step - loss: 0.0243 - acc: 0.9980 - val_loss: 0.2720 - val_acc: 0.9466\n",
      "Epoch 74/300\n",
      "1010/1010 [==============================] - 0s 193us/step - loss: 0.0271 - acc: 0.9941 - val_loss: 0.2534 - val_acc: 0.9644\n",
      "Epoch 75/300\n",
      "1010/1010 [==============================] - 0s 178us/step - loss: 0.0199 - acc: 0.9970 - val_loss: 0.2606 - val_acc: 0.9555\n",
      "Epoch 76/300\n",
      "1010/1010 [==============================] - 0s 188us/step - loss: 0.0193 - acc: 0.9990 - val_loss: 0.2457 - val_acc: 0.9614\n",
      "Epoch 77/300\n",
      "1010/1010 [==============================] - 0s 174us/step - loss: 0.0190 - acc: 0.9960 - val_loss: 0.2853 - val_acc: 0.9496\n",
      "Epoch 78/300\n",
      "1010/1010 [==============================] - 0s 170us/step - loss: 0.0177 - acc: 0.9970 - val_loss: 0.2709 - val_acc: 0.9496\n",
      "Epoch 79/300\n",
      "1010/1010 [==============================] - 0s 172us/step - loss: 0.0142 - acc: 0.9970 - val_loss: 0.2423 - val_acc: 0.9614\n",
      "Epoch 80/300\n",
      "1010/1010 [==============================] - 0s 172us/step - loss: 0.0163 - acc: 0.9960 - val_loss: 0.2564 - val_acc: 0.9555\n",
      "Epoch 81/300\n",
      "1010/1010 [==============================] - 0s 195us/step - loss: 0.0164 - acc: 0.9980 - val_loss: 0.2708 - val_acc: 0.9496\n",
      "Epoch 82/300\n",
      "1010/1010 [==============================] - 0s 181us/step - loss: 0.0163 - acc: 0.9970 - val_loss: 0.2990 - val_acc: 0.9496\n",
      "Epoch 83/300\n",
      "1010/1010 [==============================] - 0s 175us/step - loss: 0.0138 - acc: 0.9980 - val_loss: 0.2850 - val_acc: 0.9466\n",
      "Epoch 84/300\n",
      "1010/1010 [==============================] - 0s 171us/step - loss: 0.0113 - acc: 0.9990 - val_loss: 0.2605 - val_acc: 0.9555\n",
      "Epoch 85/300\n",
      "1010/1010 [==============================] - 0s 171us/step - loss: 0.0115 - acc: 1.0000 - val_loss: 0.2695 - val_acc: 0.9614\n",
      "Epoch 86/300\n",
      "1010/1010 [==============================] - 0s 173us/step - loss: 0.0105 - acc: 1.0000 - val_loss: 0.2854 - val_acc: 0.9496\n",
      "Epoch 87/300\n",
      "1010/1010 [==============================] - 0s 174us/step - loss: 0.0101 - acc: 1.0000 - val_loss: 0.2757 - val_acc: 0.9466\n",
      "Epoch 88/300\n",
      "1010/1010 [==============================] - 0s 174us/step - loss: 0.0119 - acc: 0.9980 - val_loss: 0.2880 - val_acc: 0.9496\n",
      "Epoch 89/300\n",
      "1010/1010 [==============================] - 0s 177us/step - loss: 0.0153 - acc: 0.9990 - val_loss: 0.2698 - val_acc: 0.9644\n",
      "Epoch 90/300\n",
      "1010/1010 [==============================] - 0s 167us/step - loss: 0.0090 - acc: 0.9980 - val_loss: 0.2657 - val_acc: 0.9644\n",
      "Epoch 91/300\n",
      "1010/1010 [==============================] - 0s 165us/step - loss: 0.0072 - acc: 1.0000 - val_loss: 0.2740 - val_acc: 0.9614\n",
      "Epoch 92/300\n",
      "1010/1010 [==============================] - 0s 170us/step - loss: 0.0077 - acc: 1.0000 - val_loss: 0.2824 - val_acc: 0.9525\n",
      "Epoch 93/300\n",
      "1010/1010 [==============================] - 0s 172us/step - loss: 0.0115 - acc: 0.9980 - val_loss: 0.2681 - val_acc: 0.9585\n",
      "Epoch 94/300\n",
      "1010/1010 [==============================] - 0s 172us/step - loss: 0.0076 - acc: 1.0000 - val_loss: 0.2971 - val_acc: 0.9496\n",
      "Epoch 95/300\n",
      "1010/1010 [==============================] - 0s 194us/step - loss: 0.0076 - acc: 1.0000 - val_loss: 0.2815 - val_acc: 0.9585\n",
      "Epoch 96/300\n",
      "1010/1010 [==============================] - 0s 179us/step - loss: 0.0096 - acc: 0.9990 - val_loss: 0.2683 - val_acc: 0.9614\n",
      "Epoch 97/300\n",
      "1010/1010 [==============================] - 0s 169us/step - loss: 0.0055 - acc: 1.0000 - val_loss: 0.2825 - val_acc: 0.9555\n",
      "Epoch 98/300\n",
      "1010/1010 [==============================] - 0s 168us/step - loss: 0.0062 - acc: 1.0000 - val_loss: 0.2645 - val_acc: 0.9644\n",
      "Epoch 99/300\n",
      "1010/1010 [==============================] - 0s 176us/step - loss: 0.0073 - acc: 1.0000 - val_loss: 0.2689 - val_acc: 0.9644\n",
      "Epoch 100/300\n",
      "1010/1010 [==============================] - 0s 167us/step - loss: 0.0057 - acc: 1.0000 - val_loss: 0.2756 - val_acc: 0.9614\n",
      "Epoch 101/300\n",
      "1010/1010 [==============================] - 0s 167us/step - loss: 0.0046 - acc: 1.0000 - val_loss: 0.2837 - val_acc: 0.9555\n",
      "Epoch 102/300\n",
      "1010/1010 [==============================] - 0s 193us/step - loss: 0.0036 - acc: 1.0000 - val_loss: 0.2839 - val_acc: 0.9496\n",
      "Epoch 103/300\n",
      "1010/1010 [==============================] - 0s 203us/step - loss: 0.0063 - acc: 1.0000 - val_loss: 0.2770 - val_acc: 0.9525\n",
      "Epoch 104/300\n",
      "1010/1010 [==============================] - 0s 186us/step - loss: 0.0042 - acc: 1.0000 - val_loss: 0.3001 - val_acc: 0.9555\n",
      "Epoch 105/300\n",
      "1010/1010 [==============================] - 0s 178us/step - loss: 0.0057 - acc: 1.0000 - val_loss: 0.3039 - val_acc: 0.9555\n",
      "Epoch 106/300\n",
      "1010/1010 [==============================] - 0s 172us/step - loss: 0.0067 - acc: 0.9980 - val_loss: 0.3026 - val_acc: 0.9436\n",
      "Epoch 107/300\n",
      "1010/1010 [==============================] - 0s 174us/step - loss: 0.0043 - acc: 1.0000 - val_loss: 0.2816 - val_acc: 0.9614\n",
      "Epoch 108/300\n",
      "1010/1010 [==============================] - 0s 169us/step - loss: 0.0040 - acc: 1.0000 - val_loss: 0.2981 - val_acc: 0.9496\n",
      "Epoch 109/300\n",
      "1010/1010 [==============================] - 0s 177us/step - loss: 0.0537 - acc: 0.9812 - val_loss: 0.2622 - val_acc: 0.9585\n",
      "Epoch 110/300\n",
      "1010/1010 [==============================] - 0s 175us/step - loss: 0.0147 - acc: 0.9950 - val_loss: 0.2653 - val_acc: 0.9614\n",
      "Epoch 111/300\n",
      "1010/1010 [==============================] - 0s 181us/step - loss: 0.0054 - acc: 1.0000 - val_loss: 0.2766 - val_acc: 0.9555\n",
      "Epoch 112/300\n",
      "1010/1010 [==============================] - 0s 193us/step - loss: 0.0031 - acc: 1.0000 - val_loss: 0.2752 - val_acc: 0.9585\n",
      "Epoch 113/300\n",
      "1010/1010 [==============================] - 0s 196us/step - loss: 0.0028 - acc: 1.0000 - val_loss: 0.2797 - val_acc: 0.9585\n",
      "Epoch 114/300\n",
      "1010/1010 [==============================] - 0s 177us/step - loss: 0.0026 - acc: 1.0000 - val_loss: 0.2823 - val_acc: 0.9585\n",
      "Epoch 115/300\n",
      "1010/1010 [==============================] - 0s 177us/step - loss: 0.0024 - acc: 1.0000 - val_loss: 0.2783 - val_acc: 0.9644\n",
      "Epoch 116/300\n",
      "1010/1010 [==============================] - 0s 173us/step - loss: 0.0025 - acc: 1.0000 - val_loss: 0.2819 - val_acc: 0.9674\n",
      "Epoch 117/300\n",
      "1010/1010 [==============================] - 0s 187us/step - loss: 0.0022 - acc: 1.0000 - val_loss: 0.2820 - val_acc: 0.9644\n",
      "Epoch 118/300\n",
      "1010/1010 [==============================] - 0s 167us/step - loss: 0.0021 - acc: 1.0000 - val_loss: 0.2801 - val_acc: 0.9614\n",
      "Epoch 119/300\n",
      "1010/1010 [==============================] - 0s 172us/step - loss: 0.0021 - acc: 1.0000 - val_loss: 0.2832 - val_acc: 0.9555\n",
      "Epoch 120/300\n",
      "1010/1010 [==============================] - 0s 171us/step - loss: 0.0020 - acc: 1.0000 - val_loss: 0.2872 - val_acc: 0.9674\n",
      "Epoch 121/300\n",
      "1010/1010 [==============================] - 0s 180us/step - loss: 0.0019 - acc: 1.0000 - val_loss: 0.2850 - val_acc: 0.9674\n",
      "Epoch 122/300\n",
      "1010/1010 [==============================] - 0s 174us/step - loss: 0.0018 - acc: 1.0000 - val_loss: 0.2893 - val_acc: 0.9614\n",
      "Epoch 123/300\n",
      "1010/1010 [==============================] - 0s 171us/step - loss: 0.0020 - acc: 1.0000 - val_loss: 0.2928 - val_acc: 0.9585\n",
      "Epoch 124/300\n",
      "1010/1010 [==============================] - 0s 172us/step - loss: 0.0020 - acc: 1.0000 - val_loss: 0.2851 - val_acc: 0.9585\n",
      "Epoch 125/300\n",
      "1010/1010 [==============================] - 0s 174us/step - loss: 0.0018 - acc: 1.0000 - val_loss: 0.2830 - val_acc: 0.9644\n",
      "Epoch 126/300\n",
      "1010/1010 [==============================] - 0s 186us/step - loss: 0.0020 - acc: 1.0000 - val_loss: 0.2935 - val_acc: 0.9525\n",
      "Epoch 127/300\n",
      "1010/1010 [==============================] - 0s 182us/step - loss: 0.0017 - acc: 1.0000 - val_loss: 0.2929 - val_acc: 0.9555\n",
      "Epoch 128/300\n",
      "1010/1010 [==============================] - 0s 199us/step - loss: 0.0016 - acc: 1.0000 - val_loss: 0.2885 - val_acc: 0.9644\n",
      "Epoch 129/300\n",
      "1010/1010 [==============================] - 0s 175us/step - loss: 0.0015 - acc: 1.0000 - val_loss: 0.2895 - val_acc: 0.9644\n",
      "Epoch 130/300\n",
      "1010/1010 [==============================] - 0s 180us/step - loss: 0.0021 - acc: 1.0000 - val_loss: 0.2965 - val_acc: 0.9644\n",
      "Epoch 131/300\n",
      "1010/1010 [==============================] - 0s 196us/step - loss: 0.0015 - acc: 1.0000 - val_loss: 0.2931 - val_acc: 0.9614\n",
      "Epoch 132/300\n",
      "1010/1010 [==============================] - 0s 168us/step - loss: 0.0013 - acc: 1.0000 - val_loss: 0.2912 - val_acc: 0.9585\n",
      "Epoch 133/300\n",
      "1010/1010 [==============================] - 0s 178us/step - loss: 0.0016 - acc: 1.0000 - val_loss: 0.2978 - val_acc: 0.9674\n",
      "Epoch 134/300\n",
      "1010/1010 [==============================] - 0s 176us/step - loss: 0.0013 - acc: 1.0000 - val_loss: 0.2873 - val_acc: 0.9614\n",
      "Epoch 135/300\n",
      "1010/1010 [==============================] - 0s 173us/step - loss: 0.0014 - acc: 1.0000 - val_loss: 0.2912 - val_acc: 0.9644\n",
      "Epoch 136/300\n",
      "1010/1010 [==============================] - 0s 171us/step - loss: 0.0012 - acc: 1.0000 - val_loss: 0.3064 - val_acc: 0.9466\n",
      "Epoch 137/300\n",
      "1010/1010 [==============================] - 0s 172us/step - loss: 0.0014 - acc: 1.0000 - val_loss: 0.2957 - val_acc: 0.9644\n",
      "Epoch 138/300\n",
      "1010/1010 [==============================] - 0s 174us/step - loss: 0.0010 - acc: 1.0000 - val_loss: 0.3084 - val_acc: 0.9585\n",
      "Epoch 139/300\n",
      "1010/1010 [==============================] - 0s 178us/step - loss: 0.0011 - acc: 1.0000 - val_loss: 0.2952 - val_acc: 0.9555\n",
      "Epoch 140/300\n",
      "1010/1010 [==============================] - 0s 190us/step - loss: 0.0011 - acc: 1.0000 - val_loss: 0.2982 - val_acc: 0.9585\n",
      "Epoch 141/300\n",
      "1010/1010 [==============================] - 0s 180us/step - loss: 0.0013 - acc: 1.0000 - val_loss: 0.2952 - val_acc: 0.9555\n",
      "Epoch 142/300\n",
      "1010/1010 [==============================] - 0s 174us/step - loss: 9.7177e-04 - acc: 1.0000 - val_loss: 0.3009 - val_acc: 0.9555\n",
      "Epoch 143/300\n",
      "1010/1010 [==============================] - 0s 167us/step - loss: 9.3828e-04 - acc: 1.0000 - val_loss: 0.2895 - val_acc: 0.9614\n",
      "Epoch 144/300\n",
      "1010/1010 [==============================] - 0s 172us/step - loss: 9.0369e-04 - acc: 1.0000 - val_loss: 0.2960 - val_acc: 0.9555\n",
      "Epoch 145/300\n",
      "1010/1010 [==============================] - 0s 177us/step - loss: 8.4903e-04 - acc: 1.0000 - val_loss: 0.3053 - val_acc: 0.9585\n",
      "Epoch 146/300\n",
      "1010/1010 [==============================] - 0s 169us/step - loss: 0.0013 - acc: 1.0000 - val_loss: 0.3027 - val_acc: 0.9496\n",
      "Epoch 147/300\n",
      "1010/1010 [==============================] - 0s 198us/step - loss: 0.0012 - acc: 1.0000 - val_loss: 0.3057 - val_acc: 0.9585\n",
      "Epoch 148/300\n",
      "1010/1010 [==============================] - 0s 183us/step - loss: 0.0013 - acc: 1.0000 - val_loss: 0.3139 - val_acc: 0.9555\n",
      "Epoch 149/300\n",
      "1010/1010 [==============================] - 0s 179us/step - loss: 0.0018 - acc: 1.0000 - val_loss: 0.3126 - val_acc: 0.9525\n",
      "Epoch 150/300\n",
      "1010/1010 [==============================] - 0s 173us/step - loss: 0.1046 - acc: 0.9723 - val_loss: 0.5682 - val_acc: 0.8991\n",
      "Epoch 151/300\n",
      "1010/1010 [==============================] - 0s 165us/step - loss: 0.0478 - acc: 0.9871 - val_loss: 0.3049 - val_acc: 0.9585\n",
      "Epoch 152/300\n",
      "1010/1010 [==============================] - 0s 174us/step - loss: 0.0016 - acc: 1.0000 - val_loss: 0.3190 - val_acc: 0.9585\n",
      "Epoch 153/300\n",
      "1010/1010 [==============================] - 0s 171us/step - loss: 0.0011 - acc: 1.0000 - val_loss: 0.3231 - val_acc: 0.9614\n",
      "Epoch 154/300\n",
      "1010/1010 [==============================] - 0s 170us/step - loss: 9.3950e-04 - acc: 1.0000 - val_loss: 0.3242 - val_acc: 0.9614\n",
      "Epoch 155/300\n",
      "1010/1010 [==============================] - 0s 178us/step - loss: 8.8040e-04 - acc: 1.0000 - val_loss: 0.3238 - val_acc: 0.9614\n",
      "Epoch 156/300\n",
      "1010/1010 [==============================] - 0s 169us/step - loss: 8.3809e-04 - acc: 1.0000 - val_loss: 0.3229 - val_acc: 0.9585\n",
      "Epoch 157/300\n",
      "1010/1010 [==============================] - 0s 170us/step - loss: 7.8749e-04 - acc: 1.0000 - val_loss: 0.3238 - val_acc: 0.9614\n",
      "Epoch 158/300\n",
      "1010/1010 [==============================] - 0s 174us/step - loss: 7.9167e-04 - acc: 1.0000 - val_loss: 0.3251 - val_acc: 0.9614\n",
      "Epoch 159/300\n",
      "1010/1010 [==============================] - 0s 179us/step - loss: 7.2093e-04 - acc: 1.0000 - val_loss: 0.3212 - val_acc: 0.9644\n",
      "Epoch 160/300\n",
      "1010/1010 [==============================] - 0s 171us/step - loss: 7.0061e-04 - acc: 1.0000 - val_loss: 0.3200 - val_acc: 0.9585\n",
      "Epoch 161/300\n",
      "1010/1010 [==============================] - 0s 172us/step - loss: 6.8518e-04 - acc: 1.0000 - val_loss: 0.3191 - val_acc: 0.9644\n",
      "Epoch 162/300\n",
      "1010/1010 [==============================] - 0s 171us/step - loss: 6.6253e-04 - acc: 1.0000 - val_loss: 0.3195 - val_acc: 0.9644\n",
      "Epoch 163/300\n",
      "1010/1010 [==============================] - 0s 174us/step - loss: 6.3948e-04 - acc: 1.0000 - val_loss: 0.3224 - val_acc: 0.9614\n",
      "Epoch 164/300\n",
      "1010/1010 [==============================] - 0s 171us/step - loss: 6.3250e-04 - acc: 1.0000 - val_loss: 0.3211 - val_acc: 0.9614\n",
      "Epoch 165/300\n",
      "1010/1010 [==============================] - 0s 171us/step - loss: 5.9358e-04 - acc: 1.0000 - val_loss: 0.3192 - val_acc: 0.9644\n",
      "Epoch 166/300\n",
      "1010/1010 [==============================] - 0s 174us/step - loss: 5.9222e-04 - acc: 1.0000 - val_loss: 0.3181 - val_acc: 0.9644\n",
      "Epoch 167/300\n",
      "1010/1010 [==============================] - 0s 174us/step - loss: 5.8925e-04 - acc: 1.0000 - val_loss: 0.3189 - val_acc: 0.9644\n",
      "Epoch 168/300\n",
      "1010/1010 [==============================] - 0s 172us/step - loss: 5.4697e-04 - acc: 1.0000 - val_loss: 0.3193 - val_acc: 0.9614\n",
      "Epoch 169/300\n",
      "1010/1010 [==============================] - 0s 180us/step - loss: 5.6281e-04 - acc: 1.0000 - val_loss: 0.3217 - val_acc: 0.9585\n",
      "Epoch 170/300\n",
      "1010/1010 [==============================] - 0s 183us/step - loss: 5.5464e-04 - acc: 1.0000 - val_loss: 0.3193 - val_acc: 0.9614\n",
      "Epoch 171/300\n",
      "1010/1010 [==============================] - 0s 191us/step - loss: 5.5654e-04 - acc: 1.0000 - val_loss: 0.3190 - val_acc: 0.9644\n",
      "Epoch 172/300\n",
      "1010/1010 [==============================] - 0s 179us/step - loss: 5.2285e-04 - acc: 1.0000 - val_loss: 0.3193 - val_acc: 0.9614\n",
      "Epoch 173/300\n",
      "1010/1010 [==============================] - 0s 204us/step - loss: 4.9624e-04 - acc: 1.0000 - val_loss: 0.3173 - val_acc: 0.9614\n",
      "Epoch 174/300\n",
      "1010/1010 [==============================] - 0s 194us/step - loss: 4.9908e-04 - acc: 1.0000 - val_loss: 0.3213 - val_acc: 0.9644\n",
      "Epoch 175/300\n",
      "1010/1010 [==============================] - 0s 195us/step - loss: 4.8949e-04 - acc: 1.0000 - val_loss: 0.3163 - val_acc: 0.9585\n",
      "Epoch 176/300\n",
      "1010/1010 [==============================] - 0s 181us/step - loss: 4.9170e-04 - acc: 1.0000 - val_loss: 0.3153 - val_acc: 0.9614\n",
      "Epoch 177/300\n",
      "1010/1010 [==============================] - 0s 174us/step - loss: 4.5914e-04 - acc: 1.0000 - val_loss: 0.3196 - val_acc: 0.9614\n",
      "Epoch 178/300\n",
      "1010/1010 [==============================] - 0s 179us/step - loss: 4.4837e-04 - acc: 1.0000 - val_loss: 0.3158 - val_acc: 0.9644\n",
      "Epoch 179/300\n",
      "1010/1010 [==============================] - 0s 197us/step - loss: 4.4520e-04 - acc: 1.0000 - val_loss: 0.3146 - val_acc: 0.9644\n",
      "Epoch 180/300\n",
      "1010/1010 [==============================] - 0s 210us/step - loss: 4.4401e-04 - acc: 1.0000 - val_loss: 0.3167 - val_acc: 0.9614\n",
      "Epoch 181/300\n",
      "1010/1010 [==============================] - 0s 177us/step - loss: 4.1447e-04 - acc: 1.0000 - val_loss: 0.3152 - val_acc: 0.9614\n",
      "Epoch 182/300\n",
      "1010/1010 [==============================] - 0s 173us/step - loss: 4.1643e-04 - acc: 1.0000 - val_loss: 0.3152 - val_acc: 0.9644\n",
      "Epoch 183/300\n",
      "1010/1010 [==============================] - 0s 185us/step - loss: 4.1494e-04 - acc: 1.0000 - val_loss: 0.3184 - val_acc: 0.9585\n",
      "Epoch 184/300\n",
      "1010/1010 [==============================] - 0s 177us/step - loss: 4.0062e-04 - acc: 1.0000 - val_loss: 0.3172 - val_acc: 0.9614\n",
      "Epoch 185/300\n",
      "1010/1010 [==============================] - 0s 167us/step - loss: 3.7706e-04 - acc: 1.0000 - val_loss: 0.3151 - val_acc: 0.9644\n",
      "Epoch 186/300\n",
      "1010/1010 [==============================] - 0s 177us/step - loss: 3.8237e-04 - acc: 1.0000 - val_loss: 0.3179 - val_acc: 0.9614\n",
      "Epoch 187/300\n",
      "1010/1010 [==============================] - 0s 179us/step - loss: 3.6366e-04 - acc: 1.0000 - val_loss: 0.3162 - val_acc: 0.9644\n",
      "Epoch 188/300\n",
      "1010/1010 [==============================] - 0s 173us/step - loss: 3.9096e-04 - acc: 1.0000 - val_loss: 0.3145 - val_acc: 0.9614\n",
      "Epoch 189/300\n",
      "1010/1010 [==============================] - 0s 175us/step - loss: 3.5234e-04 - acc: 1.0000 - val_loss: 0.3223 - val_acc: 0.9585\n",
      "Epoch 190/300\n",
      "1010/1010 [==============================] - 0s 168us/step - loss: 3.5970e-04 - acc: 1.0000 - val_loss: 0.3177 - val_acc: 0.9614\n",
      "Epoch 191/300\n",
      "1010/1010 [==============================] - 0s 170us/step - loss: 3.2088e-04 - acc: 1.0000 - val_loss: 0.3178 - val_acc: 0.9585\n",
      "Epoch 192/300\n",
      "1010/1010 [==============================] - 0s 177us/step - loss: 3.4279e-04 - acc: 1.0000 - val_loss: 0.3200 - val_acc: 0.9614\n",
      "Epoch 193/300\n",
      "1010/1010 [==============================] - 0s 171us/step - loss: 3.2439e-04 - acc: 1.0000 - val_loss: 0.3152 - val_acc: 0.9614\n",
      "Epoch 194/300\n",
      "1010/1010 [==============================] - 0s 180us/step - loss: 3.1218e-04 - acc: 1.0000 - val_loss: 0.3214 - val_acc: 0.9614\n",
      "Epoch 195/300\n",
      "1010/1010 [==============================] - 0s 175us/step - loss: 3.2685e-04 - acc: 1.0000 - val_loss: 0.3188 - val_acc: 0.9555\n",
      "Epoch 196/300\n",
      "1010/1010 [==============================] - 0s 176us/step - loss: 2.8773e-04 - acc: 1.0000 - val_loss: 0.3242 - val_acc: 0.9585\n",
      "Epoch 197/300\n",
      "1010/1010 [==============================] - 0s 175us/step - loss: 2.9690e-04 - acc: 1.0000 - val_loss: 0.3195 - val_acc: 0.9614\n",
      "Epoch 198/300\n",
      "1010/1010 [==============================] - 0s 176us/step - loss: 3.0050e-04 - acc: 1.0000 - val_loss: 0.3209 - val_acc: 0.9614\n",
      "Epoch 199/300\n",
      "1010/1010 [==============================] - 0s 177us/step - loss: 3.0356e-04 - acc: 1.0000 - val_loss: 0.3192 - val_acc: 0.9644\n",
      "Epoch 200/300\n",
      "1010/1010 [==============================] - 0s 173us/step - loss: 3.0403e-04 - acc: 1.0000 - val_loss: 0.3216 - val_acc: 0.9585\n",
      "Epoch 201/300\n",
      "1010/1010 [==============================] - 0s 170us/step - loss: 2.6028e-04 - acc: 1.0000 - val_loss: 0.3257 - val_acc: 0.9585\n",
      "Epoch 202/300\n",
      "1010/1010 [==============================] - 0s 167us/step - loss: 2.5634e-04 - acc: 1.0000 - val_loss: 0.3180 - val_acc: 0.9585\n",
      "Epoch 203/300\n",
      "1010/1010 [==============================] - 0s 170us/step - loss: 2.6464e-04 - acc: 1.0000 - val_loss: 0.3245 - val_acc: 0.9585\n",
      "Epoch 204/300\n",
      "1010/1010 [==============================] - 0s 172us/step - loss: 2.7691e-04 - acc: 1.0000 - val_loss: 0.3362 - val_acc: 0.9614\n",
      "Epoch 205/300\n",
      "1010/1010 [==============================] - 0s 174us/step - loss: 3.0727e-04 - acc: 1.0000 - val_loss: 0.3225 - val_acc: 0.9614\n",
      "Epoch 206/300\n",
      "1010/1010 [==============================] - 0s 168us/step - loss: 2.2968e-04 - acc: 1.0000 - val_loss: 0.3221 - val_acc: 0.9644\n",
      "Epoch 207/300\n",
      "1010/1010 [==============================] - 0s 169us/step - loss: 3.0332e-04 - acc: 1.0000 - val_loss: 0.3230 - val_acc: 0.9614\n",
      "Epoch 208/300\n",
      "1010/1010 [==============================] - 0s 171us/step - loss: 2.4569e-04 - acc: 1.0000 - val_loss: 0.3197 - val_acc: 0.9585\n",
      "Epoch 209/300\n",
      "1010/1010 [==============================] - 0s 180us/step - loss: 2.0751e-04 - acc: 1.0000 - val_loss: 0.3270 - val_acc: 0.9614\n",
      "Epoch 210/300\n",
      "1010/1010 [==============================] - 0s 169us/step - loss: 2.1182e-04 - acc: 1.0000 - val_loss: 0.3281 - val_acc: 0.9585\n",
      "Epoch 211/300\n",
      "1010/1010 [==============================] - 0s 176us/step - loss: 2.1995e-04 - acc: 1.0000 - val_loss: 0.3329 - val_acc: 0.9555\n",
      "Epoch 212/300\n",
      "1010/1010 [==============================] - 0s 182us/step - loss: 1.7955e-04 - acc: 1.0000 - val_loss: 0.3309 - val_acc: 0.9585\n",
      "Epoch 213/300\n",
      "1010/1010 [==============================] - 0s 175us/step - loss: 1.6452e-04 - acc: 1.0000 - val_loss: 0.3342 - val_acc: 0.9614\n",
      "Epoch 214/300\n",
      "1010/1010 [==============================] - 0s 174us/step - loss: 1.7932e-04 - acc: 1.0000 - val_loss: 0.3315 - val_acc: 0.9614\n",
      "Epoch 215/300\n",
      "1010/1010 [==============================] - 0s 179us/step - loss: 1.6905e-04 - acc: 1.0000 - val_loss: 0.3322 - val_acc: 0.9555\n",
      "Epoch 216/300\n",
      "1010/1010 [==============================] - 0s 171us/step - loss: 1.6135e-04 - acc: 1.0000 - val_loss: 0.3349 - val_acc: 0.9614\n",
      "Epoch 217/300\n",
      "1010/1010 [==============================] - 0s 174us/step - loss: 1.6032e-04 - acc: 1.0000 - val_loss: 0.3372 - val_acc: 0.9585\n",
      "Epoch 218/300\n",
      "1010/1010 [==============================] - 0s 172us/step - loss: 1.7049e-04 - acc: 1.0000 - val_loss: 0.3375 - val_acc: 0.9555\n",
      "Epoch 219/300\n",
      "1010/1010 [==============================] - 0s 178us/step - loss: 1.5836e-04 - acc: 1.0000 - val_loss: 0.3467 - val_acc: 0.9525\n",
      "Epoch 220/300\n",
      "1010/1010 [==============================] - 0s 174us/step - loss: 1.3963e-04 - acc: 1.0000 - val_loss: 0.3496 - val_acc: 0.9525\n",
      "Epoch 221/300\n",
      "1010/1010 [==============================] - 0s 173us/step - loss: 1.3129e-04 - acc: 1.0000 - val_loss: 0.3468 - val_acc: 0.9585\n",
      "Epoch 222/300\n",
      "1010/1010 [==============================] - 0s 193us/step - loss: 1.3841e-04 - acc: 1.0000 - val_loss: 0.3416 - val_acc: 0.9555\n",
      "Epoch 223/300\n",
      "1010/1010 [==============================] - 0s 170us/step - loss: 1.3731e-04 - acc: 1.0000 - val_loss: 0.3411 - val_acc: 0.9525\n",
      "Epoch 224/300\n",
      "1010/1010 [==============================] - 0s 168us/step - loss: 1.3305e-04 - acc: 1.0000 - val_loss: 0.3475 - val_acc: 0.9525\n",
      "Epoch 225/300\n",
      "1010/1010 [==============================] - 0s 168us/step - loss: 0.0020 - acc: 0.9990 - val_loss: 0.3244 - val_acc: 0.9525\n",
      "Epoch 226/300\n",
      "1010/1010 [==============================] - 0s 171us/step - loss: 0.1093 - acc: 0.9733 - val_loss: 0.3581 - val_acc: 0.9466\n",
      "Epoch 227/300\n",
      "1010/1010 [==============================] - 0s 172us/step - loss: 0.0104 - acc: 0.9960 - val_loss: 0.3424 - val_acc: 0.9585\n",
      "Epoch 228/300\n",
      "1010/1010 [==============================] - 0s 167us/step - loss: 0.0055 - acc: 0.9980 - val_loss: 0.3362 - val_acc: 0.9555\n",
      "Epoch 229/300\n",
      "1010/1010 [==============================] - 0s 178us/step - loss: 8.9809e-04 - acc: 1.0000 - val_loss: 0.3453 - val_acc: 0.9585\n",
      "Epoch 230/300\n",
      "1010/1010 [==============================] - 0s 175us/step - loss: 3.6429e-04 - acc: 1.0000 - val_loss: 0.3413 - val_acc: 0.9585\n",
      "Epoch 231/300\n",
      "1010/1010 [==============================] - 0s 177us/step - loss: 3.2650e-04 - acc: 1.0000 - val_loss: 0.3404 - val_acc: 0.9585\n",
      "Epoch 232/300\n",
      "1010/1010 [==============================] - 0s 171us/step - loss: 3.0786e-04 - acc: 1.0000 - val_loss: 0.3391 - val_acc: 0.9585\n",
      "Epoch 233/300\n",
      "1010/1010 [==============================] - 0s 169us/step - loss: 2.8788e-04 - acc: 1.0000 - val_loss: 0.3395 - val_acc: 0.9585\n",
      "Epoch 234/300\n",
      "1010/1010 [==============================] - 0s 172us/step - loss: 2.7577e-04 - acc: 1.0000 - val_loss: 0.3387 - val_acc: 0.9585\n",
      "Epoch 235/300\n",
      "1010/1010 [==============================] - 0s 174us/step - loss: 2.6362e-04 - acc: 1.0000 - val_loss: 0.3393 - val_acc: 0.9585\n",
      "Epoch 236/300\n",
      "1010/1010 [==============================] - 0s 167us/step - loss: 2.5154e-04 - acc: 1.0000 - val_loss: 0.3398 - val_acc: 0.9585\n",
      "Epoch 237/300\n",
      "1010/1010 [==============================] - 0s 173us/step - loss: 2.4097e-04 - acc: 1.0000 - val_loss: 0.3409 - val_acc: 0.9585\n",
      "Epoch 238/300\n",
      "1010/1010 [==============================] - 0s 180us/step - loss: 2.2924e-04 - acc: 1.0000 - val_loss: 0.3402 - val_acc: 0.9585\n",
      "Epoch 239/300\n",
      "1010/1010 [==============================] - 0s 191us/step - loss: 2.1890e-04 - acc: 1.0000 - val_loss: 0.3384 - val_acc: 0.9585\n",
      "Epoch 240/300\n",
      "1010/1010 [==============================] - 0s 183us/step - loss: 2.0976e-04 - acc: 1.0000 - val_loss: 0.3402 - val_acc: 0.9585\n",
      "Epoch 241/300\n",
      "1010/1010 [==============================] - 0s 174us/step - loss: 2.0269e-04 - acc: 1.0000 - val_loss: 0.3402 - val_acc: 0.9585\n",
      "Epoch 242/300\n",
      "1010/1010 [==============================] - 0s 181us/step - loss: 1.9526e-04 - acc: 1.0000 - val_loss: 0.3399 - val_acc: 0.9585\n",
      "Epoch 243/300\n",
      "1010/1010 [==============================] - 0s 177us/step - loss: 1.8921e-04 - acc: 1.0000 - val_loss: 0.3401 - val_acc: 0.9585\n",
      "Epoch 244/300\n",
      "1010/1010 [==============================] - 0s 182us/step - loss: 1.8278e-04 - acc: 1.0000 - val_loss: 0.3398 - val_acc: 0.9585\n",
      "Epoch 245/300\n",
      "1010/1010 [==============================] - 0s 168us/step - loss: 1.7681e-04 - acc: 1.0000 - val_loss: 0.3403 - val_acc: 0.9585\n",
      "Epoch 246/300\n",
      "1010/1010 [==============================] - 0s 170us/step - loss: 1.7005e-04 - acc: 1.0000 - val_loss: 0.3397 - val_acc: 0.9585\n",
      "Epoch 247/300\n",
      "1010/1010 [==============================] - 0s 171us/step - loss: 1.6362e-04 - acc: 1.0000 - val_loss: 0.3399 - val_acc: 0.9585\n",
      "Epoch 248/300\n",
      "1010/1010 [==============================] - 0s 179us/step - loss: 1.5926e-04 - acc: 1.0000 - val_loss: 0.3397 - val_acc: 0.9585\n",
      "Epoch 249/300\n",
      "1010/1010 [==============================] - 0s 182us/step - loss: 1.5372e-04 - acc: 1.0000 - val_loss: 0.3395 - val_acc: 0.9585\n",
      "Epoch 250/300\n",
      "1010/1010 [==============================] - 0s 170us/step - loss: 1.4825e-04 - acc: 1.0000 - val_loss: 0.3393 - val_acc: 0.9585\n",
      "Epoch 251/300\n",
      "1010/1010 [==============================] - 0s 167us/step - loss: 1.4668e-04 - acc: 1.0000 - val_loss: 0.3396 - val_acc: 0.9585\n",
      "Epoch 252/300\n",
      "1010/1010 [==============================] - 0s 171us/step - loss: 1.4162e-04 - acc: 1.0000 - val_loss: 0.3394 - val_acc: 0.9585\n",
      "Epoch 253/300\n",
      "1010/1010 [==============================] - 0s 169us/step - loss: 1.3782e-04 - acc: 1.0000 - val_loss: 0.3386 - val_acc: 0.9585\n",
      "Epoch 254/300\n",
      "1010/1010 [==============================] - 0s 182us/step - loss: 1.3463e-04 - acc: 1.0000 - val_loss: 0.3401 - val_acc: 0.9585\n",
      "Epoch 255/300\n",
      "1010/1010 [==============================] - 0s 169us/step - loss: 1.3046e-04 - acc: 1.0000 - val_loss: 0.3396 - val_acc: 0.9585\n",
      "Epoch 256/300\n",
      "1010/1010 [==============================] - 0s 172us/step - loss: 1.2650e-04 - acc: 1.0000 - val_loss: 0.3385 - val_acc: 0.9585\n",
      "Epoch 257/300\n",
      "1010/1010 [==============================] - 0s 166us/step - loss: 1.2378e-04 - acc: 1.0000 - val_loss: 0.3388 - val_acc: 0.9585\n",
      "Epoch 258/300\n",
      "1010/1010 [==============================] - 0s 167us/step - loss: 1.2042e-04 - acc: 1.0000 - val_loss: 0.3389 - val_acc: 0.9585\n",
      "Epoch 259/300\n",
      "1010/1010 [==============================] - 0s 170us/step - loss: 1.1719e-04 - acc: 1.0000 - val_loss: 0.3397 - val_acc: 0.9585\n",
      "Epoch 260/300\n",
      "1010/1010 [==============================] - 0s 175us/step - loss: 1.1446e-04 - acc: 1.0000 - val_loss: 0.3391 - val_acc: 0.9585\n",
      "Epoch 261/300\n",
      "1010/1010 [==============================] - 0s 171us/step - loss: 1.1054e-04 - acc: 1.0000 - val_loss: 0.3387 - val_acc: 0.9585\n",
      "Epoch 262/300\n",
      "1010/1010 [==============================] - 0s 168us/step - loss: 1.0740e-04 - acc: 1.0000 - val_loss: 0.3402 - val_acc: 0.9585\n",
      "Epoch 263/300\n",
      "1010/1010 [==============================] - 0s 171us/step - loss: 1.0639e-04 - acc: 1.0000 - val_loss: 0.3380 - val_acc: 0.9585\n",
      "Epoch 264/300\n",
      "1010/1010 [==============================] - 0s 170us/step - loss: 1.0133e-04 - acc: 1.0000 - val_loss: 0.3370 - val_acc: 0.9614\n",
      "Epoch 265/300\n",
      "1010/1010 [==============================] - 0s 169us/step - loss: 9.9562e-05 - acc: 1.0000 - val_loss: 0.3389 - val_acc: 0.9585\n",
      "Epoch 266/300\n",
      "1010/1010 [==============================] - 0s 172us/step - loss: 9.6884e-05 - acc: 1.0000 - val_loss: 0.3390 - val_acc: 0.9614\n",
      "Epoch 267/300\n",
      "1010/1010 [==============================] - 0s 174us/step - loss: 9.6184e-05 - acc: 1.0000 - val_loss: 0.3375 - val_acc: 0.9614\n",
      "Epoch 268/300\n",
      "1010/1010 [==============================] - 0s 172us/step - loss: 9.1446e-05 - acc: 1.0000 - val_loss: 0.3375 - val_acc: 0.9585\n",
      "Epoch 269/300\n",
      "1010/1010 [==============================] - 0s 176us/step - loss: 9.2204e-05 - acc: 1.0000 - val_loss: 0.3414 - val_acc: 0.9585\n",
      "Epoch 270/300\n",
      "1010/1010 [==============================] - 0s 168us/step - loss: 8.8412e-05 - acc: 1.0000 - val_loss: 0.3376 - val_acc: 0.9614\n",
      "Epoch 271/300\n",
      "1010/1010 [==============================] - 0s 172us/step - loss: 8.8254e-05 - acc: 1.0000 - val_loss: 0.3386 - val_acc: 0.9614\n",
      "Epoch 272/300\n",
      "1010/1010 [==============================] - 0s 179us/step - loss: 8.4720e-05 - acc: 1.0000 - val_loss: 0.3392 - val_acc: 0.9614\n",
      "Epoch 273/300\n",
      "1010/1010 [==============================] - 0s 184us/step - loss: 8.1736e-05 - acc: 1.0000 - val_loss: 0.3388 - val_acc: 0.9614\n",
      "Epoch 274/300\n",
      "1010/1010 [==============================] - 0s 172us/step - loss: 8.0143e-05 - acc: 1.0000 - val_loss: 0.3382 - val_acc: 0.9614\n",
      "Epoch 275/300\n",
      "1010/1010 [==============================] - 0s 165us/step - loss: 7.9748e-05 - acc: 1.0000 - val_loss: 0.3376 - val_acc: 0.9614\n",
      "Epoch 276/300\n",
      "1010/1010 [==============================] - 0s 170us/step - loss: 7.9744e-05 - acc: 1.0000 - val_loss: 0.3383 - val_acc: 0.9614\n",
      "Epoch 277/300\n",
      "1010/1010 [==============================] - 0s 173us/step - loss: 7.5866e-05 - acc: 1.0000 - val_loss: 0.3385 - val_acc: 0.9614\n",
      "Epoch 278/300\n",
      "1010/1010 [==============================] - 0s 173us/step - loss: 7.6519e-05 - acc: 1.0000 - val_loss: 0.3400 - val_acc: 0.9614\n",
      "Epoch 279/300\n",
      "1010/1010 [==============================] - 0s 171us/step - loss: 7.2903e-05 - acc: 1.0000 - val_loss: 0.3367 - val_acc: 0.9614\n",
      "Epoch 280/300\n",
      "1010/1010 [==============================] - 0s 172us/step - loss: 7.1160e-05 - acc: 1.0000 - val_loss: 0.3379 - val_acc: 0.9614\n",
      "Epoch 281/300\n",
      "1010/1010 [==============================] - 0s 177us/step - loss: 6.9431e-05 - acc: 1.0000 - val_loss: 0.3377 - val_acc: 0.9614\n",
      "Epoch 282/300\n",
      "1010/1010 [==============================] - 0s 178us/step - loss: 6.7523e-05 - acc: 1.0000 - val_loss: 0.3373 - val_acc: 0.9614\n",
      "Epoch 283/300\n",
      "1010/1010 [==============================] - 0s 171us/step - loss: 6.7580e-05 - acc: 1.0000 - val_loss: 0.3378 - val_acc: 0.9614\n",
      "Epoch 284/300\n",
      "1010/1010 [==============================] - 0s 168us/step - loss: 6.4808e-05 - acc: 1.0000 - val_loss: 0.3371 - val_acc: 0.9614\n",
      "Epoch 285/300\n",
      "1010/1010 [==============================] - 0s 171us/step - loss: 6.4597e-05 - acc: 1.0000 - val_loss: 0.3367 - val_acc: 0.9614\n",
      "Epoch 286/300\n",
      "1010/1010 [==============================] - 0s 176us/step - loss: 6.4043e-05 - acc: 1.0000 - val_loss: 0.3395 - val_acc: 0.9585\n",
      "Epoch 287/300\n",
      "1010/1010 [==============================] - 0s 171us/step - loss: 6.1315e-05 - acc: 1.0000 - val_loss: 0.3376 - val_acc: 0.9614\n",
      "Epoch 288/300\n",
      "1010/1010 [==============================] - 0s 170us/step - loss: 6.3146e-05 - acc: 1.0000 - val_loss: 0.3388 - val_acc: 0.9614\n",
      "Epoch 289/300\n",
      "1010/1010 [==============================] - 0s 174us/step - loss: 5.8926e-05 - acc: 1.0000 - val_loss: 0.3376 - val_acc: 0.9614\n",
      "Epoch 290/300\n",
      "1010/1010 [==============================] - 0s 173us/step - loss: 5.7454e-05 - acc: 1.0000 - val_loss: 0.3371 - val_acc: 0.9614\n",
      "Epoch 291/300\n",
      "1010/1010 [==============================] - 0s 170us/step - loss: 5.8688e-05 - acc: 1.0000 - val_loss: 0.3391 - val_acc: 0.9614\n",
      "Epoch 292/300\n",
      "1010/1010 [==============================] - 0s 174us/step - loss: 5.7121e-05 - acc: 1.0000 - val_loss: 0.3385 - val_acc: 0.9614\n",
      "Epoch 293/300\n",
      "1010/1010 [==============================] - 0s 170us/step - loss: 5.5693e-05 - acc: 1.0000 - val_loss: 0.3395 - val_acc: 0.9614\n",
      "Epoch 294/300\n",
      "1010/1010 [==============================] - 0s 171us/step - loss: 5.2701e-05 - acc: 1.0000 - val_loss: 0.3376 - val_acc: 0.9614\n",
      "Epoch 295/300\n",
      "1010/1010 [==============================] - 0s 177us/step - loss: 5.4598e-05 - acc: 1.0000 - val_loss: 0.3391 - val_acc: 0.9614\n",
      "Epoch 296/300\n",
      "1010/1010 [==============================] - 0s 168us/step - loss: 5.3259e-05 - acc: 1.0000 - val_loss: 0.3407 - val_acc: 0.9614\n",
      "Epoch 297/300\n",
      "1010/1010 [==============================] - 0s 182us/step - loss: 5.1974e-05 - acc: 1.0000 - val_loss: 0.3437 - val_acc: 0.9585\n",
      "Epoch 298/300\n",
      "1010/1010 [==============================] - 0s 195us/step - loss: 5.5522e-05 - acc: 1.0000 - val_loss: 0.3361 - val_acc: 0.9614\n",
      "Epoch 299/300\n",
      "1010/1010 [==============================] - 0s 184us/step - loss: 4.9003e-05 - acc: 1.0000 - val_loss: 0.3382 - val_acc: 0.9614\n",
      "Epoch 300/300\n",
      "1010/1010 [==============================] - 0s 170us/step - loss: 4.8774e-05 - acc: 1.0000 - val_loss: 0.3390 - val_acc: 0.9614\n"
     ]
    }
   ],
   "source": [
    "# train the model...\n",
    "\n",
    "hist=model.fit(x_train,y_train,batch_size=10,validation_split=0.25,nb_epoch=300,shuffle=True,verbose=1)"
   ]
  },
  {
   "cell_type": "markdown",
   "metadata": {
    "colab_type": "text",
    "id": "yjHca2uo5LqC"
   },
   "source": [
    "## Analyze the results.\n"
   ]
  },
  {
   "cell_type": "code",
   "execution_count": 0,
   "metadata": {
    "colab": {
     "base_uri": "https://localhost:8080/",
     "height": 337
    },
    "colab_type": "code",
    "id": "Aib6WaD20zc7",
    "outputId": "36e265d5-aa5a-4737-cbea-d817092d4c78"
   },
   "outputs": [
    {
     "name": "stdout",
     "output_type": "stream",
     "text": [
      "Model: \"sequential_2\"\n",
      "_________________________________________________________________\n",
      "Layer (type)                 Output Shape              Param #   \n",
      "=================================================================\n",
      "conv2d_2 (Conv2D)            (None, 6, 6, 5)           50        \n",
      "_________________________________________________________________\n",
      "max_pooling2d_2 (MaxPooling2 (None, 3, 3, 5)           0         \n",
      "_________________________________________________________________\n",
      "flatten_2 (Flatten)          (None, 45)                0         \n",
      "_________________________________________________________________\n",
      "dense_3 (Dense)              (None, 10)                460       \n",
      "_________________________________________________________________\n",
      "dense_4 (Dense)              (None, 10)                110       \n",
      "=================================================================\n",
      "Total params: 620\n",
      "Trainable params: 620\n",
      "Non-trainable params: 0\n",
      "_________________________________________________________________\n"
     ]
    }
   ],
   "source": [
    "# print the model summary...\n",
    "model.summary()"
   ]
  },
  {
   "cell_type": "markdown",
   "metadata": {
    "colab_type": "text",
    "id": "ywMqq2PG63il"
   },
   "source": [
    "## print the confusion matrix obtained on the test dataset.\n",
    "\n",
    "Use the **confusion_matrix()** function provided in **sklearn.metrics**."
   ]
  },
  {
   "cell_type": "code",
   "execution_count": 0,
   "metadata": {
    "colab": {
     "base_uri": "https://localhost:8080/",
     "height": 492
    },
    "colab_type": "code",
    "id": "ncISqliz0Dfc",
    "outputId": "8e049b1a-d8f3-441c-9648-459ed1bb92e9"
   },
   "outputs": [
    {
     "name": "stdout",
     "output_type": "stream",
     "text": [
      "Confusion matrix, without normalization\n",
      "[[41  0  0  1  0  1  0  0  0  0]\n",
      " [ 0 37  0  0  0  0  0  0  0  0]\n",
      " [ 0  0 36  1  0  0  0  0  1  0]\n",
      " [ 0  0  1 42  0  1  0  0  2  0]\n",
      " [ 0  0  0  0 54  0  1  0  0  0]\n",
      " [ 0  0  0  0  0 56  1  0  0  2]\n",
      " [ 0  0  0  0  0  0 45  0  0  0]\n",
      " [ 0  0  0  0  0  0  0 41  0  0]\n",
      " [ 0  0  0  0  0  0  0  0 37  1]\n",
      " [ 1  0  0  0  0  1  0  0  4 42]]\n"
     ]
    },
    {
     "data": {
      "image/png": "[encoded data removed]",
      "text/plain": [
       "<Figure size 432x288 with 2 Axes>"
      ]
     },
     "metadata": {
      "tags": []
     },
     "output_type": "display_data"
    }
   ],
   "source": [
    "from sklearn.metrics import confusion_matrix\n",
    "from sklearn.metrics import classification_report\n",
    "import itertools\n",
    "def plot_confusion_matrix(cm, classes,\n",
    "                          normalize=False,\n",
    "                          title='Confusion matrix',\n",
    "                          cmap=plt.cm.Blues):\n",
    "    \"\"\"\n",
    "    This function prints and plots the confusion matrix.\n",
    "    Normalization can be applied by setting `normalize=True`.\n",
    "    \"\"\"\n",
    "    if normalize:\n",
    "        cm = cm.astype('float') / cm.sum(axis=1)[:, np.newaxis]\n",
    "        print(\"Normalized confusion matrix\")\n",
    "    else:\n",
    "        print('Confusion matrix, without normalization')\n",
    "\n",
    "    print(cm)\n",
    "\n",
    "    plt.imshow(cm, interpolation='nearest', cmap=cmap)\n",
    "    plt.title(title)\n",
    "    plt.colorbar()\n",
    "    tick_marks = np.arange(len(classes))\n",
    "    plt.xticks(tick_marks, classes, rotation=45)\n",
    "    plt.yticks(tick_marks, classes)\n",
    "\n",
    "    fmt = '.2f' if normalize else 'd'\n",
    "    thresh = cm.max() / 2.\n",
    "    for i, j in itertools.product(range(cm.shape[0]), range(cm.shape[1])):\n",
    "        plt.text(j, i, format(cm[i, j], fmt),\n",
    "                 horizontalalignment=\"center\",\n",
    "                 color=\"white\" if cm[i, j] > thresh else \"black\")\n",
    "\n",
    "    plt.ylabel('True label')\n",
    "    plt.xlabel('Predicted label')\n",
    "    plt.tight_layout()\n",
    "\n",
    "class_names = [\"0\",\"1\",\"2\",\"3\",\"4\",\"5\",\"6\",\"7\",\"8\",\"9\"]\n",
    "y_test_pred = model.predict(x_test).round()\n",
    "cnf_matrix = confusion_matrix(y_test.argmax(axis=1), y_test_pred.argmax(axis=1))\n",
    "# Plot normalized confusion matrix\n",
    "plt.figure()\n",
    "plot_confusion_matrix(cnf_matrix,classes=class_names,normalize=False,title='confusion matrix')\n",
    "plt.show()"
   ]
  },
  {
   "cell_type": "markdown",
   "metadata": {
    "colab_type": "text",
    "id": "7e6fI1O-7L8T"
   },
   "source": [
    "Normalize the confusion matrix to show graphically the prediction probability map.\n",
    "\n"
   ]
  },
  {
   "cell_type": "code",
   "execution_count": 0,
   "metadata": {
    "colab": {
     "base_uri": "https://localhost:8080/",
     "height": 848
    },
    "colab_type": "code",
    "id": "jO6O1M_30Dff",
    "outputId": "a79495c1-595b-4bca-d0ea-6a6333c63ebc",
    "scrolled": true
   },
   "outputs": [
    {
     "name": "stdout",
     "output_type": "stream",
     "text": [
      "Normalized confusion matrix\n",
      "[[0.95348837 0.         0.         0.02325581 0.         0.02325581\n",
      "  0.         0.         0.         0.        ]\n",
      " [0.         1.         0.         0.         0.         0.\n",
      "  0.         0.         0.         0.        ]\n",
      " [0.         0.         0.94736842 0.02631579 0.         0.\n",
      "  0.         0.         0.02631579 0.        ]\n",
      " [0.         0.         0.02173913 0.91304348 0.         0.02173913\n",
      "  0.         0.         0.04347826 0.        ]\n",
      " [0.         0.         0.         0.         0.98181818 0.\n",
      "  0.01818182 0.         0.         0.        ]\n",
      " [0.         0.         0.         0.         0.         0.94915254\n",
      "  0.01694915 0.         0.         0.03389831]\n",
      " [0.         0.         0.         0.         0.         0.\n",
      "  1.         0.         0.         0.        ]\n",
      " [0.         0.         0.         0.         0.         0.\n",
      "  0.         1.         0.         0.        ]\n",
      " [0.         0.         0.         0.         0.         0.\n",
      "  0.         0.         0.97368421 0.02631579]\n",
      " [0.02083333 0.         0.         0.         0.         0.02083333\n",
      "  0.         0.         0.08333333 0.875     ]]\n"
     ]
    },
    {
     "data": {
      "image/png": "[encoded data removed]",
      "text/plain": [
       "<Figure size 432x288 with 2 Axes>"
      ]
     },
     "metadata": {
      "tags": []
     },
     "output_type": "display_data"
    },
    {
     "name": "stdout",
     "output_type": "stream",
     "text": [
      "number 0 counts: 41\n",
      "number 1 counts: 37\n",
      "number 2 counts: 36\n",
      "number 3 counts: 42\n",
      "number 4 counts: 54\n",
      "number 5 counts: 56\n",
      "number 6 counts: 45\n",
      "number 7 counts: 41\n",
      "number 8 counts: 37\n",
      "number 9 counts: 42\n"
     ]
    }
   ],
   "source": [
    "plt.figure()\n",
    "plot_confusion_matrix(cnf_matrix,classes=class_names,normalize=True,title='confusion matrix')\n",
    "plt.show()\n",
    "for i in range(10):\n",
    "  print('number %d counts: %d'%(i,cnf_matrix[i,i]))"
   ]
  },
  {
   "cell_type": "markdown",
   "metadata": {
    "colab_type": "text",
    "id": "WK0aomhEKa_H"
   },
   "source": [
    "Evaluate the model on the test dataset. \n"
   ]
  },
  {
   "cell_type": "code",
   "execution_count": 0,
   "metadata": {
    "colab": {
     "base_uri": "https://localhost:8080/",
     "height": 52
    },
    "colab_type": "code",
    "id": "pVwr48wnKbab",
    "outputId": "12224c51-c721-4faa-9774-ec630f1ee083"
   },
   "outputs": [
    {
     "name": "stdout",
     "output_type": "stream",
     "text": [
      "450/450 [==============================] - 0s 536us/step\n",
      "accuracy on the test dataset is 0.9577777777777777\n"
     ]
    }
   ],
   "source": [
    "print('accuracy on the test dataset is',model.evaluate(x_test,y_test,batch_size=1)[1])"
   ]
  },
  {
   "cell_type": "markdown",
   "metadata": {
    "colab_type": "text",
    "id": "WX2SokwP8tyD"
   },
   "source": [
    "**history plot**\n"
   ]
  },
  {
   "cell_type": "code",
   "execution_count": 0,
   "metadata": {
    "colab": {
     "base_uri": "https://localhost:8080/",
     "height": 591
    },
    "colab_type": "code",
    "id": "N8OOOnF0CbtL",
    "outputId": "bec1c2af-a4bf-4a1e-c7c7-0be229cfe519"
   },
   "outputs": [
    {
     "name": "stdout",
     "output_type": "stream",
     "text": [
      "dict_keys(['val_loss', 'val_acc', 'loss', 'acc'])\n"
     ]
    },
    {
     "data": {
      "image/png": "[encoded data removed]",
      "text/plain": [
       "<Figure size 432x288 with 1 Axes>"
      ]
     },
     "metadata": {
      "tags": []
     },
     "output_type": "display_data"
    },
    {
     "data": {
      "image/png": "[encoded data removed]",
      "text/plain": [
       "<Figure size 432x288 with 1 Axes>"
      ]
     },
     "metadata": {
      "tags": []
     },
     "output_type": "display_data"
    }
   ],
   "source": [
    "import matplotlib.pyplot as plt\n",
    "print(hist.history.keys())\n",
    "# summarize history for accuracy\n",
    "plt.plot(hist.history['acc'])\n",
    "plt.plot(hist.history['val_acc'])\n",
    "plt.title('model accuracy')\n",
    "plt.ylabel('accuracy')\n",
    "plt.xlabel('epoch')\n",
    "plt.legend(['train', 'test'], loc='upper left')\n",
    "plt.show()\n",
    "# summarize history for loss\n",
    "plt.plot(hist.history['loss'])\n",
    "plt.plot(hist.history['val_loss'])\n",
    "plt.title('model loss')\n",
    "plt.ylabel('loss')\n",
    "plt.xlabel('epoch')\n",
    "plt.legend(['train', 'test'], loc='upper left')\n",
    "plt.show()"
   ]
  }
 ],
 "metadata": {
  "accelerator": "TPU",
  "anaconda-cloud": {},
  "colab": {
   "collapsed_sections": [],
   "name": "exercise_3_assignment.ipynb",
   "provenance": []
  },
  "kernelspec": {
   "display_name": "Python 3",
   "language": "python",
   "name": "python3"
  },
  "language_info": {
   "codemirror_mode": {
    "name": "ipython",
    "version": 3
   },
   "file_extension": ".py",
   "mimetype": "text/x-python",
   "name": "python",
   "nbconvert_exporter": "python",
   "pygments_lexer": "ipython3",
   "version": "3.7.4"
  }
 },
 "nbformat": 4,
 "nbformat_minor": 1
}
