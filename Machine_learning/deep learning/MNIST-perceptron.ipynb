{
 "cells": [
  {
   "cell_type": "markdown",
   "metadata": {
    "colab_type": "text",
    "id": "9q-hbDzPUwCG"
   },
   "source": [
    "# **MNIST**\n",
    "## **Recognition of hand-written characters from the scikit-learn database using a perceptron**\n",
    "\n"
   ]
  },
  {
   "cell_type": "markdown",
   "metadata": {
    "colab_type": "text",
    "id": "6D6DiDqBmnW5"
   },
   "source": [
    "Import the **MNIST** dataset of the digits from scikit-learn\n"
   ]
  },
  {
   "cell_type": "code",
   "execution_count": 2,
   "metadata": {
    "colab": {
     "base_uri": "https://localhost:8080/",
     "height": 35
    },
    "colab_type": "code",
    "id": "VjCvN9Rk0De2",
    "outputId": "5090d85c-1d19-4dd6-98ca-89d6db54ebff"
   },
   "outputs": [
    {
     "data": {
      "text/plain": [
       "(1797, 8, 8)"
      ]
     },
     "execution_count": 2,
     "metadata": {
      "tags": []
     },
     "output_type": "execute_result"
    }
   ],
   "source": [
    "from sklearn import datasets\n",
    "digits = datasets.load_digits() #MNIST dataset\n",
    "digits.images.shape        #size of dataset"
   ]
  },
  {
   "cell_type": "markdown",
   "metadata": {
    "colab_type": "text",
    "id": "VWYdMblA07og"
   },
   "source": [
    "The data we are interested in are 8x8 images of digits. They are stored in the `images` attribute of the dataset. \n",
    "\n",
    "Have a look at the data and the classes: \n",
    "\n",
    "1.   For every image, we know which digit it represents. It is the  'target' of the dataset.\n",
    "2.   Show the first 10 images and their target.\n",
    "\n"
   ]
  },
  {
   "cell_type": "code",
   "execution_count": 3,
   "metadata": {
    "colab": {
     "base_uri": "https://localhost:8080/",
     "height": 469
    },
    "colab_type": "code",
    "id": "QSxjoJLH0De6",
    "outputId": "ec630f58-66f0-46e6-8958-b22cec7e20d4"
   },
   "outputs": [
    {
     "data": {
      "image/png": "[encoded data removed]",
      "text/plain": [
       "<Figure size 576x576 with 10 Axes>"
      ]
     },
     "metadata": {
      "tags": []
     },
     "output_type": "display_data"
    }
   ],
   "source": [
    "import matplotlib.pyplot as plt\n",
    "fig, axes = plt.subplots(10,1, figsize=(8, 8),subplot_kw={'xticks':[], 'yticks':[]},\n",
    "                        gridspec_kw=dict(hspace=1, wspace=0.1))\n",
    "for i, ax in enumerate(axes.flat):\n",
    "  ax.imshow(digits.images[i], cmap='binary', interpolation='nearest')\n",
    "  ax.text(0.05, 0.05, str(digits.target[i]),transform=ax.transAxes, color='green')"
   ]
  },
  {
   "cell_type": "markdown",
   "metadata": {
    "colab_type": "text",
    "id": "vaYdBnY-1rOT"
   },
   "source": [
    "To apply a perceptron classifier on this data, we will not use 8x8 images but the vectorized version stored in digits.data.\n"
   ]
  },
  {
   "cell_type": "code",
   "execution_count": 4,
   "metadata": {
    "colab": {
     "base_uri": "https://localhost:8080/",
     "height": 195
    },
    "colab_type": "code",
    "id": "VQuyeiuf0DfA",
    "outputId": "db61c5c9-b7c6-4f0b-c06e-767e2a2cf4c6"
   },
   "outputs": [
    {
     "name": "stdout",
     "output_type": "stream",
     "text": [
      "1797\n",
      "dict_keys(['data', 'target', 'target_names', 'images', 'DESCR'])\n",
      "10\n",
      "[[ 0.  0.  5. ...  0.  0.  0.]\n",
      " [ 0.  0.  0. ... 10.  0.  0.]\n",
      " [ 0.  0.  0. ... 16.  9.  0.]\n",
      " ...\n",
      " [ 0.  0.  1. ...  6.  0.  0.]\n",
      " [ 0.  0.  2. ... 12.  0.  0.]\n",
      " [ 0.  0. 10. ... 12.  1.  0.]]\n"
     ]
    }
   ],
   "source": [
    "print(digits.images.shape[0])\n",
    "print(digits.keys())\n",
    "print(digits.target_names.shape[0])\n",
    "print(digits.data)"
   ]
  },
  {
   "cell_type": "markdown",
   "metadata": {
    "colab_type": "text",
    "id": "0Z_Spag63LcS"
   },
   "source": [
    "Convert the target into the matrix 'y' in one-hot format.\n",
    "This will allow the predictors output one at a time using the soft-max activation. What is the shape of the 'y' matrix. Use the keras function **utils.to_categorical()**."
   ]
  },
  {
   "cell_type": "code",
   "execution_count": 5,
   "metadata": {
    "colab": {
     "base_uri": "https://localhost:8080/",
     "height": 81
    },
    "colab_type": "code",
    "id": "zGSFqYtw0DfE",
    "outputId": "d2846b0c-9220-4ec2-9487-6f47820e0b89"
   },
   "outputs": [
    {
     "name": "stderr",
     "output_type": "stream",
     "text": [
      "Using TensorFlow backend.\n"
     ]
    },
    {
     "data": {
      "text/html": [
       "<p style=\"color: red;\">\n",
       "The default version of TensorFlow in Colab will soon switch to TensorFlow 2.x.<br>\n",
       "We recommend you <a href=\"https://www.tensorflow.org/guide/migrate\" target=\"_blank\">upgrade</a> now \n",
       "or ensure your notebook will continue to use TensorFlow 1.x via the <code>%tensorflow_version 1.x</code> magic:\n",
       "<a href=\"https://colab.research.google.com/notebooks/tensorflow_version.ipynb\" target=\"_blank\">more info</a>.</p>\n"
      ],
      "text/plain": [
       "<IPython.core.display.HTML object>"
      ]
     },
     "metadata": {
      "tags": []
     },
     "output_type": "display_data"
    }
   ],
   "source": [
    "import keras\n",
    "label=keras.utils.to_categorical(digits.target,num_classes=10)"
   ]
  },
  {
   "cell_type": "markdown",
   "metadata": {
    "colab_type": "text",
    "id": "3QWG61q33iVh"
   },
   "source": [
    "## Prepare the train and test dataset.\n",
    "\n",
    "1.   split dataset into test and train dataset.\n",
    "2.   split further the train dataset into train and validation part\n"
   ]
  },
  {
   "cell_type": "code",
   "execution_count": 0,
   "metadata": {
    "colab": {},
    "colab_type": "code",
    "id": "GY1FFbNP0DfI"
   },
   "outputs": [],
   "source": [
    "from sklearn.model_selection import train_test_split\n",
    "\n",
    "x_train, x_test, y_train, y_test =train_test_split(digits.data,label, test_size=0.25, random_state=42)"
   ]
  },
  {
   "cell_type": "markdown",
   "metadata": {
    "colab_type": "text",
    "id": "TTgyr6h44F5a"
   },
   "source": [
    "## create the sequential model\n",
    "\n",
    "\n",
    "\n"
   ]
  },
  {
   "cell_type": "code",
   "execution_count": 7,
   "metadata": {
    "colab": {
     "base_uri": "https://localhost:8080/",
     "height": 215
    },
    "colab_type": "code",
    "id": "2hX3OI7v0DfM",
    "outputId": "21c58166-a773-480f-de3b-e46b5c586862"
   },
   "outputs": [
    {
     "name": "stdout",
     "output_type": "stream",
     "text": [
      "WARNING:tensorflow:From /usr/local/lib/python3.6/dist-packages/keras/backend/tensorflow_backend.py:66: The name tf.get_default_graph is deprecated. Please use tf.compat.v1.get_default_graph instead.\n",
      "\n",
      "WARNING:tensorflow:From /usr/local/lib/python3.6/dist-packages/keras/backend/tensorflow_backend.py:541: The name tf.placeholder is deprecated. Please use tf.compat.v1.placeholder instead.\n",
      "\n",
      "WARNING:tensorflow:From /usr/local/lib/python3.6/dist-packages/keras/backend/tensorflow_backend.py:4409: The name tf.random_normal is deprecated. Please use tf.random.normal instead.\n",
      "\n",
      "WARNING:tensorflow:From /usr/local/lib/python3.6/dist-packages/keras/optimizers.py:793: The name tf.train.Optimizer is deprecated. Please use tf.compat.v1.train.Optimizer instead.\n",
      "\n",
      "WARNING:tensorflow:From /usr/local/lib/python3.6/dist-packages/keras/backend/tensorflow_backend.py:3576: The name tf.log is deprecated. Please use tf.math.log instead.\n",
      "\n"
     ]
    }
   ],
   "source": [
    "from keras.models import Sequential\n",
    "from keras.layers import Dense,Activation\n",
    "model = Sequential()    \n",
    "model.add(Dense(1000,input_dim=64,kernel_initializer = 'normal',activation = 'relu')) \n",
    "model.add(Dense(units = 10,kernel_initializer = 'normal',activation = 'softmax')) \n",
    "model.compile(loss='categorical_crossentropy', optimizer='sgd', metrics=[\"accuracy\"])\n"
   ]
  },
  {
   "cell_type": "markdown",
   "metadata": {
    "colab_type": "text",
    "id": "92xBrTgg440r"
   },
   "source": [
    "## train the model\n"
   ]
  },
  {
   "cell_type": "code",
   "execution_count": 13,
   "metadata": {
    "colab": {
     "base_uri": "https://localhost:8080/",
     "height": 1000
    },
    "colab_type": "code",
    "id": "DLytVrr80DfQ",
    "outputId": "00955915-0a47-4cfe-c0d2-77c1c36f6a5a"
   },
   "outputs": [
    {
     "name": "stdout",
     "output_type": "stream",
     "text": [
      "Train on 1010 samples, validate on 337 samples\n",
      "Epoch 1/100\n",
      " 610/1010 [=================>............] - ETA: 0s - loss: 1.5334 - acc: 0.9049"
     ]
    },
    {
     "name": "stderr",
     "output_type": "stream",
     "text": [
      "/usr/local/lib/python3.6/dist-packages/ipykernel_launcher.py:1: UserWarning: The `nb_epoch` argument in `fit` has been renamed `epochs`.\n",
      "  \"\"\"Entry point for launching an IPython kernel.\n"
     ]
    },
    {
     "name": "stdout",
     "output_type": "stream",
     "text": [
      "1010/1010 [==============================] - 0s 291us/step - loss: 1.5328 - acc: 0.9050 - val_loss: 1.9426 - val_acc: 0.8546\n",
      "Epoch 2/100\n",
      "1010/1010 [==============================] - 0s 266us/step - loss: 1.5328 - acc: 0.9050 - val_loss: 1.9424 - val_acc: 0.8516\n",
      "Epoch 3/100\n",
      "1010/1010 [==============================] - 0s 282us/step - loss: 1.5328 - acc: 0.9050 - val_loss: 1.9422 - val_acc: 0.8516\n",
      "Epoch 4/100\n",
      "1010/1010 [==============================] - 0s 267us/step - loss: 1.5328 - acc: 0.9050 - val_loss: 1.9420 - val_acc: 0.8516\n",
      "Epoch 5/100\n",
      "1010/1010 [==============================] - 0s 261us/step - loss: 1.5328 - acc: 0.9050 - val_loss: 1.9419 - val_acc: 0.8516\n",
      "Epoch 6/100\n",
      "1010/1010 [==============================] - 0s 289us/step - loss: 1.5328 - acc: 0.9050 - val_loss: 1.9419 - val_acc: 0.8516\n",
      "Epoch 7/100\n",
      "1010/1010 [==============================] - 0s 270us/step - loss: 1.5328 - acc: 0.9050 - val_loss: 1.9421 - val_acc: 0.8516\n",
      "Epoch 8/100\n",
      "1010/1010 [==============================] - 0s 265us/step - loss: 1.5328 - acc: 0.9050 - val_loss: 1.9416 - val_acc: 0.8516\n",
      "Epoch 9/100\n",
      "1010/1010 [==============================] - 0s 276us/step - loss: 1.5328 - acc: 0.9050 - val_loss: 1.9424 - val_acc: 0.8546\n",
      "Epoch 10/100\n",
      "1010/1010 [==============================] - 0s 294us/step - loss: 1.5328 - acc: 0.9050 - val_loss: 1.9418 - val_acc: 0.8516\n",
      "Epoch 11/100\n",
      "1010/1010 [==============================] - 0s 291us/step - loss: 1.5328 - acc: 0.9050 - val_loss: 1.9413 - val_acc: 0.8516\n",
      "Epoch 12/100\n",
      "1010/1010 [==============================] - 0s 311us/step - loss: 1.5328 - acc: 0.9050 - val_loss: 1.9418 - val_acc: 0.8516\n",
      "Epoch 13/100\n",
      "1010/1010 [==============================] - 0s 322us/step - loss: 1.5328 - acc: 0.9050 - val_loss: 1.9422 - val_acc: 0.8546\n",
      "Epoch 14/100\n",
      "1010/1010 [==============================] - 0s 279us/step - loss: 1.5327 - acc: 0.9050 - val_loss: 1.9418 - val_acc: 0.8516\n",
      "Epoch 15/100\n",
      "1010/1010 [==============================] - 0s 258us/step - loss: 1.5327 - acc: 0.9050 - val_loss: 1.9418 - val_acc: 0.8516\n",
      "Epoch 16/100\n",
      "1010/1010 [==============================] - 0s 264us/step - loss: 1.5327 - acc: 0.9050 - val_loss: 1.9414 - val_acc: 0.8516\n",
      "Epoch 17/100\n",
      "1010/1010 [==============================] - 0s 278us/step - loss: 1.5327 - acc: 0.9050 - val_loss: 1.9411 - val_acc: 0.8516\n",
      "Epoch 18/100\n",
      "1010/1010 [==============================] - 0s 274us/step - loss: 1.5327 - acc: 0.9050 - val_loss: 1.9416 - val_acc: 0.8516\n",
      "Epoch 19/100\n",
      "1010/1010 [==============================] - 0s 265us/step - loss: 1.5327 - acc: 0.9050 - val_loss: 1.9419 - val_acc: 0.8516\n",
      "Epoch 20/100\n",
      "1010/1010 [==============================] - 0s 268us/step - loss: 1.5327 - acc: 0.9050 - val_loss: 1.9418 - val_acc: 0.8516\n",
      "Epoch 21/100\n",
      "1010/1010 [==============================] - 0s 285us/step - loss: 1.5327 - acc: 0.9050 - val_loss: 1.9415 - val_acc: 0.8516\n",
      "Epoch 22/100\n",
      "1010/1010 [==============================] - 0s 271us/step - loss: 1.5327 - acc: 0.9050 - val_loss: 1.9411 - val_acc: 0.8516\n",
      "Epoch 23/100\n",
      "1010/1010 [==============================] - 0s 292us/step - loss: 1.5327 - acc: 0.9050 - val_loss: 1.9413 - val_acc: 0.8516\n",
      "Epoch 24/100\n",
      "1010/1010 [==============================] - 0s 283us/step - loss: 1.5327 - acc: 0.9050 - val_loss: 1.9420 - val_acc: 0.8546\n",
      "Epoch 25/100\n",
      "1010/1010 [==============================] - 0s 290us/step - loss: 1.5327 - acc: 0.9050 - val_loss: 1.9415 - val_acc: 0.8516\n",
      "Epoch 26/100\n",
      "1010/1010 [==============================] - 0s 318us/step - loss: 1.5327 - acc: 0.9050 - val_loss: 1.9419 - val_acc: 0.8516\n",
      "Epoch 27/100\n",
      "1010/1010 [==============================] - 0s 294us/step - loss: 1.5327 - acc: 0.9050 - val_loss: 1.9414 - val_acc: 0.8516\n",
      "Epoch 28/100\n",
      "1010/1010 [==============================] - 0s 284us/step - loss: 1.5327 - acc: 0.9050 - val_loss: 1.9416 - val_acc: 0.8576\n",
      "Epoch 29/100\n",
      "1010/1010 [==============================] - 0s 274us/step - loss: 1.5327 - acc: 0.9050 - val_loss: 1.9417 - val_acc: 0.8516\n",
      "Epoch 30/100\n",
      "1010/1010 [==============================] - 0s 273us/step - loss: 1.5327 - acc: 0.9050 - val_loss: 1.9417 - val_acc: 0.8516\n",
      "Epoch 31/100\n",
      "1010/1010 [==============================] - 0s 283us/step - loss: 1.5327 - acc: 0.9050 - val_loss: 1.9412 - val_acc: 0.8516\n",
      "Epoch 32/100\n",
      "1010/1010 [==============================] - 0s 267us/step - loss: 1.5326 - acc: 0.9050 - val_loss: 1.9414 - val_acc: 0.8516\n",
      "Epoch 33/100\n",
      "1010/1010 [==============================] - 0s 260us/step - loss: 1.5326 - acc: 0.9050 - val_loss: 1.9414 - val_acc: 0.8516\n",
      "Epoch 34/100\n",
      "1010/1010 [==============================] - 0s 292us/step - loss: 1.5326 - acc: 0.9050 - val_loss: 1.9414 - val_acc: 0.8516\n",
      "Epoch 35/100\n",
      "1010/1010 [==============================] - 0s 283us/step - loss: 1.5326 - acc: 0.9050 - val_loss: 1.9410 - val_acc: 0.8516\n",
      "Epoch 36/100\n",
      "1010/1010 [==============================] - 0s 275us/step - loss: 1.5326 - acc: 0.9050 - val_loss: 1.9417 - val_acc: 0.8516\n",
      "Epoch 37/100\n",
      "1010/1010 [==============================] - 0s 255us/step - loss: 1.5326 - acc: 0.9050 - val_loss: 1.9416 - val_acc: 0.8516\n",
      "Epoch 38/100\n",
      "1010/1010 [==============================] - 0s 262us/step - loss: 1.5326 - acc: 0.9050 - val_loss: 1.9413 - val_acc: 0.8516\n",
      "Epoch 39/100\n",
      "1010/1010 [==============================] - 0s 284us/step - loss: 1.5326 - acc: 0.9050 - val_loss: 1.9407 - val_acc: 0.8516\n",
      "Epoch 40/100\n",
      "1010/1010 [==============================] - 0s 267us/step - loss: 1.5326 - acc: 0.9050 - val_loss: 1.9412 - val_acc: 0.8516\n",
      "Epoch 41/100\n",
      "1010/1010 [==============================] - 0s 268us/step - loss: 1.5326 - acc: 0.9050 - val_loss: 1.9412 - val_acc: 0.8516\n",
      "Epoch 42/100\n",
      "1010/1010 [==============================] - 0s 272us/step - loss: 1.5326 - acc: 0.9050 - val_loss: 1.9412 - val_acc: 0.8516\n",
      "Epoch 43/100\n",
      "1010/1010 [==============================] - 0s 259us/step - loss: 1.5326 - acc: 0.9050 - val_loss: 1.9411 - val_acc: 0.8516\n",
      "Epoch 44/100\n",
      "1010/1010 [==============================] - 0s 278us/step - loss: 1.5326 - acc: 0.9050 - val_loss: 1.9413 - val_acc: 0.8516\n",
      "Epoch 45/100\n",
      "1010/1010 [==============================] - 0s 266us/step - loss: 1.5326 - acc: 0.9050 - val_loss: 1.9413 - val_acc: 0.8516\n",
      "Epoch 46/100\n",
      "1010/1010 [==============================] - 0s 279us/step - loss: 1.5326 - acc: 0.9050 - val_loss: 1.9411 - val_acc: 0.8516\n",
      "Epoch 47/100\n",
      "1010/1010 [==============================] - 0s 300us/step - loss: 1.5326 - acc: 0.9050 - val_loss: 1.9412 - val_acc: 0.8516\n",
      "Epoch 48/100\n",
      "1010/1010 [==============================] - 0s 286us/step - loss: 1.5326 - acc: 0.9050 - val_loss: 1.9413 - val_acc: 0.8576\n",
      "Epoch 49/100\n",
      "1010/1010 [==============================] - 0s 257us/step - loss: 1.5326 - acc: 0.9050 - val_loss: 1.9411 - val_acc: 0.8546\n",
      "Epoch 50/100\n",
      "1010/1010 [==============================] - 0s 278us/step - loss: 1.5326 - acc: 0.9050 - val_loss: 1.9407 - val_acc: 0.8516\n",
      "Epoch 51/100\n",
      "1010/1010 [==============================] - 0s 290us/step - loss: 1.5326 - acc: 0.9050 - val_loss: 1.9412 - val_acc: 0.8516\n",
      "Epoch 52/100\n",
      "1010/1010 [==============================] - 0s 272us/step - loss: 1.5326 - acc: 0.9050 - val_loss: 1.9412 - val_acc: 0.8516\n",
      "Epoch 53/100\n",
      "1010/1010 [==============================] - 0s 278us/step - loss: 1.5326 - acc: 0.9050 - val_loss: 1.9407 - val_acc: 0.8516\n",
      "Epoch 54/100\n",
      "1010/1010 [==============================] - 0s 284us/step - loss: 1.5326 - acc: 0.9050 - val_loss: 1.9410 - val_acc: 0.8516\n",
      "Epoch 55/100\n",
      "1010/1010 [==============================] - 0s 272us/step - loss: 1.5326 - acc: 0.9050 - val_loss: 1.9411 - val_acc: 0.8516\n",
      "Epoch 56/100\n",
      "1010/1010 [==============================] - 0s 255us/step - loss: 1.5326 - acc: 0.9050 - val_loss: 1.9408 - val_acc: 0.8516\n",
      "Epoch 57/100\n",
      "1010/1010 [==============================] - 0s 280us/step - loss: 1.5325 - acc: 0.9050 - val_loss: 1.9412 - val_acc: 0.8516\n",
      "Epoch 58/100\n",
      "1010/1010 [==============================] - 0s 271us/step - loss: 1.5325 - acc: 0.9050 - val_loss: 1.9412 - val_acc: 0.8546\n",
      "Epoch 59/100\n",
      "1010/1010 [==============================] - 0s 281us/step - loss: 1.5325 - acc: 0.9050 - val_loss: 1.9413 - val_acc: 0.8516\n",
      "Epoch 60/100\n",
      "1010/1010 [==============================] - 0s 274us/step - loss: 1.5325 - acc: 0.9050 - val_loss: 1.9412 - val_acc: 0.8516\n",
      "Epoch 61/100\n",
      "1010/1010 [==============================] - 0s 286us/step - loss: 1.5325 - acc: 0.9050 - val_loss: 1.9407 - val_acc: 0.8516\n",
      "Epoch 62/100\n",
      "1010/1010 [==============================] - 0s 264us/step - loss: 1.5325 - acc: 0.9050 - val_loss: 1.9410 - val_acc: 0.8516\n",
      "Epoch 63/100\n",
      "1010/1010 [==============================] - 0s 274us/step - loss: 1.5325 - acc: 0.9050 - val_loss: 1.9412 - val_acc: 0.8546\n",
      "Epoch 64/100\n",
      "1010/1010 [==============================] - 0s 275us/step - loss: 1.5325 - acc: 0.9050 - val_loss: 1.9410 - val_acc: 0.8516\n",
      "Epoch 65/100\n",
      "1010/1010 [==============================] - 0s 266us/step - loss: 1.5325 - acc: 0.9050 - val_loss: 1.9407 - val_acc: 0.8516\n",
      "Epoch 66/100\n",
      "1010/1010 [==============================] - 0s 263us/step - loss: 1.5325 - acc: 0.9050 - val_loss: 1.9409 - val_acc: 0.8516\n",
      "Epoch 67/100\n",
      "1010/1010 [==============================] - 0s 284us/step - loss: 1.5325 - acc: 0.9050 - val_loss: 1.9407 - val_acc: 0.8516\n",
      "Epoch 68/100\n",
      "1010/1010 [==============================] - 0s 274us/step - loss: 1.5325 - acc: 0.9050 - val_loss: 1.9407 - val_acc: 0.8516\n",
      "Epoch 69/100\n",
      "1010/1010 [==============================] - 0s 288us/step - loss: 1.5325 - acc: 0.9050 - val_loss: 1.9408 - val_acc: 0.8516\n",
      "Epoch 70/100\n",
      "1010/1010 [==============================] - 0s 293us/step - loss: 1.5325 - acc: 0.9050 - val_loss: 1.9408 - val_acc: 0.8516\n",
      "Epoch 71/100\n",
      "1010/1010 [==============================] - 0s 308us/step - loss: 1.5325 - acc: 0.9050 - val_loss: 1.9407 - val_acc: 0.8516\n",
      "Epoch 72/100\n",
      "1010/1010 [==============================] - 0s 283us/step - loss: 1.5325 - acc: 0.9050 - val_loss: 1.9409 - val_acc: 0.8546\n",
      "Epoch 73/100\n",
      "1010/1010 [==============================] - 0s 276us/step - loss: 1.5325 - acc: 0.9050 - val_loss: 1.9408 - val_acc: 0.8516\n",
      "Epoch 74/100\n",
      "1010/1010 [==============================] - 0s 318us/step - loss: 1.5325 - acc: 0.9050 - val_loss: 1.9412 - val_acc: 0.8546\n",
      "Epoch 75/100\n",
      "1010/1010 [==============================] - 0s 321us/step - loss: 1.5325 - acc: 0.9050 - val_loss: 1.9407 - val_acc: 0.8546\n",
      "Epoch 76/100\n",
      "1010/1010 [==============================] - 0s 280us/step - loss: 1.5325 - acc: 0.9050 - val_loss: 1.9405 - val_acc: 0.8516\n",
      "Epoch 77/100\n",
      "1010/1010 [==============================] - 0s 289us/step - loss: 1.5325 - acc: 0.9050 - val_loss: 1.9411 - val_acc: 0.8546\n",
      "Epoch 78/100\n",
      "1010/1010 [==============================] - 0s 308us/step - loss: 1.5325 - acc: 0.9050 - val_loss: 1.9408 - val_acc: 0.8546\n",
      "Epoch 79/100\n",
      "1010/1010 [==============================] - 0s 272us/step - loss: 1.5325 - acc: 0.9050 - val_loss: 1.9407 - val_acc: 0.8546\n",
      "Epoch 80/100\n",
      "1010/1010 [==============================] - 0s 282us/step - loss: 1.5325 - acc: 0.9050 - val_loss: 1.9411 - val_acc: 0.8546\n",
      "Epoch 81/100\n",
      "1010/1010 [==============================] - 0s 278us/step - loss: 1.5325 - acc: 0.9050 - val_loss: 1.9406 - val_acc: 0.8546\n",
      "Epoch 82/100\n",
      "1010/1010 [==============================] - 0s 302us/step - loss: 1.5325 - acc: 0.9050 - val_loss: 1.9407 - val_acc: 0.8546\n",
      "Epoch 83/100\n",
      "1010/1010 [==============================] - 0s 282us/step - loss: 1.5325 - acc: 0.9050 - val_loss: 1.9406 - val_acc: 0.8546\n",
      "Epoch 84/100\n",
      "1010/1010 [==============================] - 0s 284us/step - loss: 1.5325 - acc: 0.9050 - val_loss: 1.9407 - val_acc: 0.8546\n",
      "Epoch 85/100\n",
      "1010/1010 [==============================] - 0s 296us/step - loss: 1.5325 - acc: 0.9050 - val_loss: 1.9408 - val_acc: 0.8546\n",
      "Epoch 86/100\n",
      "1010/1010 [==============================] - 0s 291us/step - loss: 1.5325 - acc: 0.9050 - val_loss: 1.9407 - val_acc: 0.8546\n",
      "Epoch 87/100\n",
      "1010/1010 [==============================] - 0s 290us/step - loss: 1.5325 - acc: 0.9050 - val_loss: 1.9407 - val_acc: 0.8546\n",
      "Epoch 88/100\n",
      "1010/1010 [==============================] - 0s 273us/step - loss: 1.5325 - acc: 0.9050 - val_loss: 1.9404 - val_acc: 0.8546\n",
      "Epoch 89/100\n",
      "1010/1010 [==============================] - 0s 301us/step - loss: 1.5325 - acc: 0.9050 - val_loss: 1.9405 - val_acc: 0.8546\n",
      "Epoch 90/100\n",
      "1010/1010 [==============================] - 0s 269us/step - loss: 1.5325 - acc: 0.9050 - val_loss: 1.9405 - val_acc: 0.8516\n",
      "Epoch 91/100\n",
      "1010/1010 [==============================] - 0s 259us/step - loss: 1.5325 - acc: 0.9050 - val_loss: 1.9404 - val_acc: 0.8516\n",
      "Epoch 92/100\n",
      "1010/1010 [==============================] - 0s 292us/step - loss: 1.5325 - acc: 0.9050 - val_loss: 1.9408 - val_acc: 0.8546\n",
      "Epoch 93/100\n",
      "1010/1010 [==============================] - 0s 271us/step - loss: 1.5324 - acc: 0.9050 - val_loss: 1.9405 - val_acc: 0.8546\n",
      "Epoch 94/100\n",
      "1010/1010 [==============================] - 0s 256us/step - loss: 1.5324 - acc: 0.9050 - val_loss: 1.9404 - val_acc: 0.8546\n",
      "Epoch 95/100\n",
      "1010/1010 [==============================] - 0s 259us/step - loss: 1.5324 - acc: 0.9050 - val_loss: 1.9404 - val_acc: 0.8546\n",
      "Epoch 96/100\n",
      "1010/1010 [==============================] - 0s 309us/step - loss: 1.5324 - acc: 0.9050 - val_loss: 1.9406 - val_acc: 0.8546\n",
      "Epoch 97/100\n",
      "1010/1010 [==============================] - 0s 266us/step - loss: 1.5324 - acc: 0.9050 - val_loss: 1.9409 - val_acc: 0.8546\n",
      "Epoch 98/100\n",
      "1010/1010 [==============================] - 0s 261us/step - loss: 1.5324 - acc: 0.9050 - val_loss: 1.9407 - val_acc: 0.8546\n",
      "Epoch 99/100\n",
      "1010/1010 [==============================] - 0s 261us/step - loss: 1.5324 - acc: 0.9050 - val_loss: 1.9408 - val_acc: 0.8546\n",
      "Epoch 100/100\n",
      "1010/1010 [==============================] - 0s 279us/step - loss: 1.5324 - acc: 0.9050 - val_loss: 1.9408 - val_acc: 0.8546\n"
     ]
    }
   ],
   "source": [
    "hist=model.fit(x_train,y_train,batch_size=10,validation_split=0.25,nb_epoch=100,shuffle=True,verbose=1)"
   ]
  },
  {
   "cell_type": "markdown",
   "metadata": {
    "colab_type": "text",
    "id": "yjHca2uo5LqC"
   },
   "source": [
    "## Analyze the results.\n",
    "\n"
   ]
  },
  {
   "cell_type": "code",
   "execution_count": 12,
   "metadata": {
    "colab": {
     "base_uri": "https://localhost:8080/",
     "height": 248
    },
    "colab_type": "code",
    "id": "lMCS2N160DfU",
    "outputId": "c328a406-3a22-466b-ea1a-e3b0e0ab25be"
   },
   "outputs": [
    {
     "name": "stdout",
     "output_type": "stream",
     "text": [
      "Model: \"sequential_1\"\n",
      "_________________________________________________________________\n",
      "Layer (type)                 Output Shape              Param #   \n",
      "=================================================================\n",
      "dense_1 (Dense)              (None, 1000)              65000     \n",
      "_________________________________________________________________\n",
      "dense_2 (Dense)              (None, 10)                10010     \n",
      "=================================================================\n",
      "Total params: 75,010\n",
      "Trainable params: 75,010\n",
      "Non-trainable params: 0\n",
      "_________________________________________________________________\n",
      "None\n"
     ]
    }
   ],
   "source": [
    "print (model.summary())\n"
   ]
  },
  {
   "cell_type": "markdown",
   "metadata": {
    "colab_type": "text",
    "id": "ywMqq2PG63il"
   },
   "source": [
    "## print the confusion matrix obtained on the test dataset.\n",
    "\n",
    "Use the **confusion_matrix()** function provided in **sklearn.metrics**."
   ]
  },
  {
   "cell_type": "code",
   "execution_count": 0,
   "metadata": {
    "colab": {
     "base_uri": "https://localhost:8080/",
     "height": 492
    },
    "colab_type": "code",
    "id": "ncISqliz0Dfc",
    "outputId": "ec91ecb3-9805-417f-8c3e-311df42209dd"
   },
   "outputs": [
    {
     "name": "stdout",
     "output_type": "stream",
     "text": [
      "Confusion matrix, without normalization\n",
      "[[43  0  0  0  0  0  0  0  0  0]\n",
      " [ 0 37  0  0  0  0  0  0  0  0]\n",
      " [ 0  0 38  0  0  0  0  0  0  0]\n",
      " [ 0  0  1 44  0  1  0  0  0  0]\n",
      " [ 0  0  0  0 55  0  0  0  0  0]\n",
      " [ 0  0  1  0  0 55  1  0  0  2]\n",
      " [ 1  0  0  0  0  0 44  0  0  0]\n",
      " [ 0  0  0  0  0  0  0 40  0  1]\n",
      " [ 1  0  0  0  0  1  0  0 36  0]\n",
      " [ 0  0  0  0  0  0  0  0  0 48]]\n"
     ]
    },
    {
     "data": {
      "image/png": "[encoded data removed]",
      "text/plain": [
       "<Figure size 432x288 with 2 Axes>"
      ]
     },
     "metadata": {
      "tags": []
     },
     "output_type": "display_data"
    }
   ],
   "source": [
    "import numpy as np\n",
    "from sklearn.metrics import confusion_matrix\n",
    "from sklearn.metrics import classification_report\n",
    "import itertools\n",
    "def plot_confusion_matrix(cm, classes,\n",
    "                          normalize=False,\n",
    "                          title='Confusion matrix',\n",
    "                          cmap=plt.cm.Blues):\n",
    "    \"\"\"\n",
    "    This function prints and plots the confusion matrix.\n",
    "    Normalization can be applied by setting `normalize=True`.\n",
    "    \"\"\"\n",
    "    if normalize:\n",
    "        cm = cm.astype('float') / cm.sum(axis=1)[:, np.newaxis]\n",
    "        print(\"Normalized confusion matrix\")\n",
    "    else:\n",
    "        print('Confusion matrix, without normalization')\n",
    "\n",
    "    print(cm)\n",
    "\n",
    "    plt.imshow(cm, interpolation='nearest', cmap=cmap)\n",
    "    plt.title(title)\n",
    "    plt.colorbar()\n",
    "    tick_marks = np.arange(len(classes))\n",
    "    plt.xticks(tick_marks, classes, rotation=45)\n",
    "    plt.yticks(tick_marks, classes)\n",
    "\n",
    "    fmt = '.2f' if normalize else 'd'\n",
    "    thresh = cm.max() / 2.\n",
    "    for i, j in itertools.product(range(cm.shape[0]), range(cm.shape[1])):\n",
    "        plt.text(j, i, format(cm[i, j], fmt),\n",
    "                 horizontalalignment=\"center\",\n",
    "                 color=\"white\" if cm[i, j] > thresh else \"black\")\n",
    "\n",
    "    plt.ylabel('True label')\n",
    "    plt.xlabel('Predicted label')\n",
    "    plt.tight_layout()\n",
    "\n",
    "class_names = [\"0\",\"1\",\"2\",\"3\",\"4\",\"5\",\"6\",\"7\",\"8\",\"9\"]\n",
    "y_test_pred = model.predict(x_test).round()\n",
    "cnf_matrix = confusion_matrix(y_test.argmax(axis=1), y_test_pred.argmax(axis=1))\n",
    "# Plot normalized confusion matrix\n",
    "plt.figure()\n",
    "plot_confusion_matrix(cnf_matrix,classes=class_names,normalize=False,title='confusion matrix')\n",
    "plt.show()\n"
   ]
  },
  {
   "cell_type": "markdown",
   "metadata": {
    "colab_type": "text",
    "id": "7e6fI1O-7L8T"
   },
   "source": [
    "Normalize the confusion matrix to show graphically the prediction probability map.\n"
   ]
  },
  {
   "cell_type": "code",
   "execution_count": 0,
   "metadata": {
    "colab": {
     "base_uri": "https://localhost:8080/",
     "height": 848
    },
    "colab_type": "code",
    "id": "jO6O1M_30Dff",
    "outputId": "8c6c96a7-97c4-48cb-ecc1-86cdf6e682b4",
    "scrolled": true
   },
   "outputs": [
    {
     "name": "stdout",
     "output_type": "stream",
     "text": [
      "Normalized confusion matrix\n",
      "[[1.         0.         0.         0.         0.         0.\n",
      "  0.         0.         0.         0.        ]\n",
      " [0.         1.         0.         0.         0.         0.\n",
      "  0.         0.         0.         0.        ]\n",
      " [0.         0.         1.         0.         0.         0.\n",
      "  0.         0.         0.         0.        ]\n",
      " [0.         0.         0.02173913 0.95652174 0.         0.02173913\n",
      "  0.         0.         0.         0.        ]\n",
      " [0.         0.         0.         0.         1.         0.\n",
      "  0.         0.         0.         0.        ]\n",
      " [0.         0.         0.01694915 0.         0.         0.93220339\n",
      "  0.01694915 0.         0.         0.03389831]\n",
      " [0.02222222 0.         0.         0.         0.         0.\n",
      "  0.97777778 0.         0.         0.        ]\n",
      " [0.         0.         0.         0.         0.         0.\n",
      "  0.         0.97560976 0.         0.02439024]\n",
      " [0.02631579 0.         0.         0.         0.         0.02631579\n",
      "  0.         0.         0.94736842 0.        ]\n",
      " [0.         0.         0.         0.         0.         0.\n",
      "  0.         0.         0.         1.        ]]\n"
     ]
    },
    {
     "data": {
      "image/png": "[encoded data removed]",
      "text/plain": [
       "<Figure size 432x288 with 2 Axes>"
      ]
     },
     "metadata": {
      "tags": []
     },
     "output_type": "display_data"
    },
    {
     "name": "stdout",
     "output_type": "stream",
     "text": [
      "number 0 counts: 43\n",
      "number 1 counts: 37\n",
      "number 2 counts: 38\n",
      "number 3 counts: 44\n",
      "number 4 counts: 55\n",
      "number 5 counts: 55\n",
      "number 6 counts: 44\n",
      "number 7 counts: 40\n",
      "number 8 counts: 36\n",
      "number 9 counts: 48\n"
     ]
    }
   ],
   "source": [
    "plt.figure()\n",
    "plot_confusion_matrix(cnf_matrix,classes=class_names,normalize=True,title='confusion matrix')\n",
    "plt.show()\n",
    "for i in range(10):\n",
    "  print('number %d counts: %d'%(i,cnf_matrix[i,i]))\n",
    "\n"
   ]
  },
  {
   "cell_type": "markdown",
   "metadata": {
    "colab_type": "text",
    "id": "9Jc5UBdAKrB-"
   },
   "source": [
    "Evaluate the model on the test dataset. Use the model's class function **evaluate()**."
   ]
  },
  {
   "cell_type": "code",
   "execution_count": 11,
   "metadata": {
    "colab": {
     "base_uri": "https://localhost:8080/",
     "height": 52
    },
    "colab_type": "code",
    "id": "__4U5AaWKpaY",
    "outputId": "ae3d6d12-611a-4331-bc7e-0bf6882ec6c8"
   },
   "outputs": [
    {
     "name": "stdout",
     "output_type": "stream",
     "text": [
      "450/450 [==============================] - 0s 1ms/step\n",
      "accuracy on the test dataset is 0.8844444444444445\n"
     ]
    }
   ],
   "source": [
    "print('accuracy on the test dataset is',model.evaluate(x_test,y_test,batch_size=1)[1])"
   ]
  },
  {
   "cell_type": "markdown",
   "metadata": {
    "colab_type": "text",
    "id": "WX2SokwP8tyD"
   },
   "source": [
    "## **History plot**\n"
   ]
  },
  {
   "cell_type": "code",
   "execution_count": 10,
   "metadata": {
    "colab": {
     "base_uri": "https://localhost:8080/",
     "height": 573
    },
    "colab_type": "code",
    "id": "XhgI7Ke0JF-H",
    "outputId": "2a607bf2-73fa-4782-bd50-d3bf011fdea0"
   },
   "outputs": [
    {
     "data": {
      "image/png": "[encoded data removed]",
      "text/plain": [
       "<Figure size 432x288 with 1 Axes>"
      ]
     },
     "metadata": {
      "tags": []
     },
     "output_type": "display_data"
    },
    {
     "data": {
      "image/png": "[encoded data removed]",
      "text/plain": [
       "<Figure size 432x288 with 1 Axes>"
      ]
     },
     "metadata": {
      "tags": []
     },
     "output_type": "display_data"
    }
   ],
   "source": [
    "# summarize history for accuracy\n",
    "plt.plot(hist.history['acc'])\n",
    "plt.plot(hist.history['val_acc'])\n",
    "plt.title('model accuracy')\n",
    "plt.ylabel('accuracy')\n",
    "plt.xlabel('epoch')\n",
    "plt.legend(['train', 'test'], loc='upper left')\n",
    "plt.show()\n",
    "# summarize history for loss\n",
    "plt.plot(hist.history['loss'])\n",
    "plt.plot(hist.history['val_loss'])\n",
    "plt.title('model loss')\n",
    "plt.ylabel('loss')\n",
    "plt.xlabel('epoch')\n",
    "plt.legend(['train', 'test'], loc='upper left')\n",
    "plt.show()"
   ]
  }
 ],
 "metadata": {
  "accelerator": "GPU",
  "anaconda-cloud": {},
  "colab": {
   "collapsed_sections": [],
   "name": "exercise_2_assignment.ipynb",
   "provenance": []
  },
  "kernelspec": {
   "display_name": "Python 3",
   "language": "python",
   "name": "python3"
  },
  "language_info": {
   "codemirror_mode": {
    "name": "ipython",
    "version": 3
   },
   "file_extension": ".py",
   "mimetype": "text/x-python",
   "name": "python",
   "nbconvert_exporter": "python",
   "pygments_lexer": "ipython3",
   "version": "3.7.4"
  }
 },
 "nbformat": 4,
 "nbformat_minor": 1
}
